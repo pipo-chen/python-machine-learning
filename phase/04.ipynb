{
 "cells": [
  {
   "cell_type": "code",
   "execution_count": 1,
   "metadata": {},
   "outputs": [],
   "source": [
    "import numpy as np\n",
    "import matplotlib.pyplot as plt\n",
    "import matplotlib\n",
    "from sklearn import datasets\n"
   ]
  },
  {
   "cell_type": "code",
   "execution_count": 2,
   "metadata": {},
   "outputs": [],
   "source": [
    "digits = datasets.load_digits()"
   ]
  },
  {
   "cell_type": "code",
   "execution_count": 3,
   "metadata": {},
   "outputs": [
    {
     "data": {
      "text/plain": [
       "dict_keys(['data', 'target', 'frame', 'feature_names', 'target_names', 'images', 'DESCR'])"
      ]
     },
     "execution_count": 3,
     "metadata": {},
     "output_type": "execute_result"
    }
   ],
   "source": [
    "digits.keys()"
   ]
  },
  {
   "cell_type": "code",
   "execution_count": 4,
   "metadata": {},
   "outputs": [],
   "source": [
    "x = digits.data\n",
    "y = digits.target"
   ]
  },
  {
   "cell_type": "code",
   "execution_count": 5,
   "metadata": {},
   "outputs": [
    {
     "data": {
      "text/plain": [
       "(1797, 64)"
      ]
     },
     "execution_count": 5,
     "metadata": {},
     "output_type": "execute_result"
    }
   ],
   "source": [
    "x.shape"
   ]
  },
  {
   "cell_type": "code",
   "execution_count": 6,
   "metadata": {},
   "outputs": [
    {
     "data": {
      "text/plain": [
       "(1797,)"
      ]
     },
     "execution_count": 6,
     "metadata": {},
     "output_type": "execute_result"
    }
   ],
   "source": [
    "y.shape"
   ]
  },
  {
   "cell_type": "code",
   "execution_count": 7,
   "metadata": {},
   "outputs": [
    {
     "name": "stdout",
     "output_type": "stream",
     "text": [
      ".. _digits_dataset:\n",
      "\n",
      "Optical recognition of handwritten digits dataset\n",
      "--------------------------------------------------\n",
      "\n",
      "**Data Set Characteristics:**\n",
      "\n",
      "    :Number of Instances: 5620\n",
      "    :Number of Attributes: 64\n",
      "    :Attribute Information: 8x8 image of integer pixels in the range 0..16.\n",
      "    :Missing Attribute Values: None\n",
      "    :Creator: E. Alpaydin (alpaydin '@' boun.edu.tr)\n",
      "    :Date: July; 1998\n",
      "\n",
      "This is a copy of the test set of the UCI ML hand-written digits datasets\n",
      "https://archive.ics.uci.edu/ml/datasets/Optical+Recognition+of+Handwritten+Digits\n",
      "\n",
      "The data set contains images of hand-written digits: 10 classes where\n",
      "each class refers to a digit.\n",
      "\n",
      "Preprocessing programs made available by NIST were used to extract\n",
      "normalized bitmaps of handwritten digits from a preprinted form. From a\n",
      "total of 43 people, 30 contributed to the training set and different 13\n",
      "to the test set. 32x32 bitmaps are divided into nonoverlapping blocks of\n",
      "4x4 and the number of on pixels are counted in each block. This generates\n",
      "an input matrix of 8x8 where each element is an integer in the range\n",
      "0..16. This reduces dimensionality and gives invariance to small\n",
      "distortions.\n",
      "\n",
      "For info on NIST preprocessing routines, see M. D. Garris, J. L. Blue, G.\n",
      "T. Candela, D. L. Dimmick, J. Geist, P. J. Grother, S. A. Janet, and C.\n",
      "L. Wilson, NIST Form-Based Handprint Recognition System, NISTIR 5469,\n",
      "1994.\n",
      "\n",
      ".. topic:: References\n",
      "\n",
      "  - C. Kaynak (1995) Methods of Combining Multiple Classifiers and Their\n",
      "    Applications to Handwritten Digit Recognition, MSc Thesis, Institute of\n",
      "    Graduate Studies in Science and Engineering, Bogazici University.\n",
      "  - E. Alpaydin, C. Kaynak (1998) Cascading Classifiers, Kybernetika.\n",
      "  - Ken Tang and Ponnuthurai N. Suganthan and Xi Yao and A. Kai Qin.\n",
      "    Linear dimensionalityreduction using relevance weighted LDA. School of\n",
      "    Electrical and Electronic Engineering Nanyang Technological University.\n",
      "    2005.\n",
      "  - Claudio Gentile. A New Approximate Maximal Margin Classification\n",
      "    Algorithm. NIPS. 2000.\n"
     ]
    }
   ],
   "source": [
    "print(digits.DESCR)"
   ]
  },
  {
   "cell_type": "code",
   "execution_count": 8,
   "metadata": {},
   "outputs": [
    {
     "data": {
      "text/plain": [
       "array([ 0.,  0.,  0., 10., 11.,  0.,  0.,  0.,  0.,  0.,  3., 16., 10.,\n",
       "        0.,  0.,  0.,  0.,  0.,  8., 16.,  0.,  0.,  0.,  0.,  0.,  0.,\n",
       "       12., 14.,  0.,  0.,  0.,  0.,  0.,  0., 14., 16., 15.,  6.,  0.,\n",
       "        0.,  0.,  0., 12., 16., 12., 15.,  6.,  0.,  0.,  0.,  7., 16.,\n",
       "       10., 13., 14.,  0.,  0.,  0.,  0.,  9., 13., 11.,  6.,  0.])"
      ]
     },
     "execution_count": 8,
     "metadata": {},
     "output_type": "execute_result"
    }
   ],
   "source": [
    "some_digit = x[88]\n",
    "some_digit"
   ]
  },
  {
   "cell_type": "code",
   "execution_count": 9,
   "metadata": {},
   "outputs": [
    {
     "data": {
      "text/plain": [
       "6"
      ]
     },
     "execution_count": 9,
     "metadata": {},
     "output_type": "execute_result"
    }
   ],
   "source": [
    "y[88]"
   ]
  },
  {
   "cell_type": "code",
   "execution_count": 10,
   "metadata": {},
   "outputs": [],
   "source": [
    "some_digit_im = some_digit.reshape(8,8)"
   ]
  },
  {
   "cell_type": "code",
   "execution_count": 11,
   "metadata": {},
   "outputs": [
    {
     "data": {
      "text/plain": [
       "array([[ 0.,  0.,  0., 10., 11.,  0.,  0.,  0.],\n",
       "       [ 0.,  0.,  3., 16., 10.,  0.,  0.,  0.],\n",
       "       [ 0.,  0.,  8., 16.,  0.,  0.,  0.,  0.],\n",
       "       [ 0.,  0., 12., 14.,  0.,  0.,  0.,  0.],\n",
       "       [ 0.,  0., 14., 16., 15.,  6.,  0.,  0.],\n",
       "       [ 0.,  0., 12., 16., 12., 15.,  6.,  0.],\n",
       "       [ 0.,  0.,  7., 16., 10., 13., 14.,  0.],\n",
       "       [ 0.,  0.,  0.,  9., 13., 11.,  6.,  0.]])"
      ]
     },
     "execution_count": 11,
     "metadata": {},
     "output_type": "execute_result"
    }
   ],
   "source": [
    "some_digit_im"
   ]
  },
  {
   "cell_type": "code",
   "execution_count": 12,
   "metadata": {},
   "outputs": [
    {
     "data": {
      "image/png": "[encoded data removed]",
      "text/plain": [
       "<Figure size 432x288 with 1 Axes>"
      ]
     },
     "metadata": {
      "needs_background": "light"
     },
     "output_type": "display_data"
    }
   ],
   "source": [
    "plt.imshow(some_digit_im, cmap = matplotlib.cm.binary)\n",
    "plt.show()"
   ]
  },
  {
   "cell_type": "markdown",
   "metadata": {},
   "source": [
    "## 使用 kNN 进行分类"
   ]
  },
  {
   "cell_type": "code",
   "execution_count": 13,
   "metadata": {},
   "outputs": [],
   "source": [
    "from playML.model_selection import train_test_split"
   ]
  },
  {
   "cell_type": "code",
   "execution_count": 14,
   "metadata": {},
   "outputs": [],
   "source": [
    "x_train, x_test, y_train, y_test = train_test_split(x, y, test_size = 0.2)"
   ]
  },
  {
   "cell_type": "code",
   "execution_count": 15,
   "metadata": {},
   "outputs": [],
   "source": [
    "from playML.kNN import KNNClassifier"
   ]
  },
  {
   "cell_type": "code",
   "execution_count": 16,
   "metadata": {},
   "outputs": [],
   "source": [
    "my_knn_clf = KNNClassifier(k = 4)"
   ]
  },
  {
   "cell_type": "code",
   "execution_count": 17,
   "metadata": {},
   "outputs": [
    {
     "data": {
      "text/plain": [
       "<playML.kNN.KNNClassifier at 0x7fdc97cc6670>"
      ]
     },
     "execution_count": 17,
     "metadata": {},
     "output_type": "execute_result"
    }
   ],
   "source": [
    "my_knn_clf.fit(x_train, y_train)"
   ]
  },
  {
   "cell_type": "code",
   "execution_count": 18,
   "metadata": {},
   "outputs": [],
   "source": [
    "y_predict = my_knn_clf.predict(x_test)"
   ]
  },
  {
   "cell_type": "code",
   "execution_count": 19,
   "metadata": {},
   "outputs": [
    {
     "data": {
      "text/plain": [
       "array([3, 4, 3, 1, 8, 7, 6, 0, 3, 9, 8, 2, 7, 2, 4, 8, 5, 0, 9, 1, 1, 9,\n",
       "       5, 5, 2, 9, 6, 2, 8, 8, 8, 4, 3, 1, 1, 9, 9, 2, 4, 6, 7, 1, 8, 4,\n",
       "       4, 9, 2, 2, 3, 1, 8, 2, 9, 5, 0, 1, 3, 2, 2, 5, 2, 2, 3, 3, 3, 2,\n",
       "       7, 9, 1, 1, 7, 9, 0, 2, 0, 6, 3, 0, 1, 4, 0, 0, 8, 9, 6, 4, 2, 6,\n",
       "       5, 9, 3, 7, 0, 9, 0, 5, 7, 8, 7, 2, 8, 7, 6, 4, 6, 0, 2, 4, 1, 7,\n",
       "       8, 8, 3, 1, 5, 3, 7, 2, 3, 9, 7, 8, 8, 3, 9, 6, 6, 5, 3, 9, 3, 5,\n",
       "       1, 6, 5, 1, 9, 8, 8, 3, 0, 5, 5, 5, 8, 4, 3, 2, 4, 4, 4, 8, 9, 7,\n",
       "       2, 9, 8, 9, 8, 4, 3, 9, 1, 8, 8, 4, 7, 1, 7, 9, 4, 3, 3, 8, 5, 9,\n",
       "       5, 4, 0, 5, 9, 6, 8, 7, 5, 8, 4, 6, 9, 1, 4, 3, 0, 4, 2, 2, 5, 4,\n",
       "       3, 1, 1, 0, 9, 5, 6, 1, 7, 9, 6, 4, 6, 3, 0, 4, 1, 5, 4, 6, 7, 3,\n",
       "       9, 9, 8, 4, 3, 4, 2, 1, 0, 1, 0, 5, 3, 8, 4, 7, 2, 9, 3, 9, 3, 8,\n",
       "       0, 7, 5, 7, 4, 6, 0, 3, 1, 6, 6, 5, 5, 0, 8, 0, 5, 1, 8, 9, 9, 9,\n",
       "       3, 7, 6, 5, 9, 1, 7, 0, 7, 9, 3, 1, 9, 5, 0, 0, 2, 2, 6, 3, 7, 3,\n",
       "       0, 1, 5, 5, 4, 3, 1, 4, 5, 4, 4, 1, 5, 0, 7, 5, 8, 9, 7, 1, 5, 9,\n",
       "       4, 3, 9, 9, 7, 9, 1, 5, 8, 2, 4, 8, 7, 0, 9, 2, 3, 3, 6, 4, 3, 2,\n",
       "       1, 3, 7, 1, 8, 6, 5, 3, 7, 3, 5, 6, 9, 2, 2, 6, 0, 6, 8, 7, 0, 0,\n",
       "       2, 1, 9, 7, 9, 4, 2])"
      ]
     },
     "execution_count": 19,
     "metadata": {},
     "output_type": "execute_result"
    }
   ],
   "source": [
    "y_predict"
   ]
  },
  {
   "cell_type": "code",
   "execution_count": 20,
   "metadata": {},
   "outputs": [
    {
     "data": {
      "text/plain": [
       "array([3, 4, 3, 1, 8, 7, 6, 0, 3, 9, 8, 2, 7, 2, 4, 8, 5, 0, 9, 1, 1, 9,\n",
       "       5, 5, 2, 9, 6, 2, 8, 8, 8, 4, 3, 1, 1, 9, 9, 2, 4, 6, 7, 1, 8, 4,\n",
       "       4, 9, 2, 2, 3, 1, 8, 2, 9, 5, 0, 1, 3, 2, 2, 5, 2, 2, 3, 3, 3, 2,\n",
       "       7, 9, 1, 1, 7, 9, 0, 2, 0, 6, 3, 0, 1, 4, 0, 0, 8, 9, 6, 4, 2, 6,\n",
       "       5, 9, 3, 7, 0, 9, 0, 5, 7, 8, 7, 2, 8, 7, 6, 4, 6, 0, 2, 4, 1, 7,\n",
       "       8, 9, 3, 1, 5, 3, 7, 2, 3, 9, 7, 8, 8, 3, 9, 6, 6, 5, 3, 9, 3, 5,\n",
       "       1, 6, 5, 1, 9, 8, 8, 3, 0, 5, 5, 5, 8, 4, 3, 2, 4, 4, 4, 8, 9, 7,\n",
       "       2, 9, 8, 9, 8, 4, 3, 9, 1, 8, 8, 4, 7, 1, 7, 9, 4, 3, 3, 8, 5, 9,\n",
       "       5, 4, 0, 5, 9, 6, 8, 7, 5, 8, 4, 6, 9, 1, 4, 3, 0, 4, 2, 2, 5, 4,\n",
       "       3, 1, 8, 0, 9, 5, 6, 1, 7, 9, 6, 4, 6, 3, 0, 4, 1, 5, 4, 6, 7, 3,\n",
       "       9, 9, 8, 4, 3, 4, 2, 1, 0, 1, 0, 5, 3, 8, 4, 7, 2, 7, 3, 9, 3, 8,\n",
       "       0, 7, 5, 7, 4, 6, 0, 3, 1, 6, 6, 5, 5, 0, 8, 0, 5, 1, 8, 9, 9, 9,\n",
       "       3, 7, 5, 5, 9, 1, 7, 0, 7, 9, 3, 1, 9, 5, 0, 0, 2, 2, 6, 3, 7, 9,\n",
       "       0, 1, 5, 5, 4, 3, 1, 4, 5, 4, 4, 1, 5, 0, 7, 5, 8, 9, 7, 1, 5, 9,\n",
       "       4, 3, 9, 9, 7, 9, 1, 5, 8, 2, 4, 8, 7, 0, 9, 2, 3, 3, 6, 4, 3, 2,\n",
       "       1, 3, 7, 1, 8, 6, 5, 3, 7, 3, 5, 6, 9, 2, 2, 6, 0, 6, 8, 7, 0, 0,\n",
       "       2, 1, 9, 7, 9, 4, 2])"
      ]
     },
     "execution_count": 20,
     "metadata": {},
     "output_type": "execute_result"
    }
   ],
   "source": [
    "y_test"
   ]
  },
  {
   "cell_type": "code",
   "execution_count": 21,
   "metadata": {},
   "outputs": [
    {
     "data": {
      "text/plain": [
       "354"
      ]
     },
     "execution_count": 21,
     "metadata": {},
     "output_type": "execute_result"
    }
   ],
   "source": [
    "sum (y_test == y_predict)"
   ]
  },
  {
   "cell_type": "code",
   "execution_count": 22,
   "metadata": {},
   "outputs": [
    {
     "data": {
      "text/plain": [
       "0.9860724233983287"
      ]
     },
     "execution_count": 22,
     "metadata": {},
     "output_type": "execute_result"
    }
   ],
   "source": [
    "sum (y_test == y_predict) / len(y_test)"
   ]
  },
  {
   "cell_type": "code",
   "execution_count": 24,
   "metadata": {},
   "outputs": [
    {
     "data": {
      "text/plain": [
       "0.9860724233983287"
      ]
     },
     "execution_count": 24,
     "metadata": {},
     "output_type": "execute_result"
    }
   ],
   "source": [
    "my_knn_clf.score(x_test, y_test)"
   ]
  },
  {
   "cell_type": "markdown",
   "metadata": {},
   "source": [
    "## 超参数"
   ]
  },
  {
   "cell_type": "code",
   "execution_count": 26,
   "metadata": {},
   "outputs": [],
   "source": [
    "from sklearn.model_selection import train_test_split\n",
    "from sklearn.neighbors import KNeighborsClassifier\n",
    "\n",
    "x_train, x_test, y_train, y_test = train_test_split(x, y, test_size = 0.2)"
   ]
  },
  {
   "cell_type": "code",
   "execution_count": 28,
   "metadata": {},
   "outputs": [],
   "source": [
    "knn_clf = KNeighborsClassifier(n_neighbors = 3)"
   ]
  },
  {
   "cell_type": "code",
   "execution_count": 29,
   "metadata": {},
   "outputs": [
    {
     "data": {
      "text/plain": [
       "KNeighborsClassifier(n_neighbors=3)"
      ]
     },
     "execution_count": 29,
     "metadata": {},
     "output_type": "execute_result"
    }
   ],
   "source": [
    "knn_clf.fit(x_train, y_train)"
   ]
  },
  {
   "cell_type": "code",
   "execution_count": 31,
   "metadata": {},
   "outputs": [],
   "source": [
    "y_predict = knn_clf.predict(x_test)"
   ]
  },
  {
   "cell_type": "code",
   "execution_count": 32,
   "metadata": {},
   "outputs": [],
   "source": [
    "from sklearn.metrics import accuracy_score"
   ]
  },
  {
   "cell_type": "code",
   "execution_count": 33,
   "metadata": {},
   "outputs": [
    {
     "data": {
      "text/plain": [
       "0.9861111111111112"
      ]
     },
     "execution_count": 33,
     "metadata": {},
     "output_type": "execute_result"
    }
   ],
   "source": [
    "accuracy_score(y_test, y_predict )"
   ]
  },
  {
   "cell_type": "code",
   "execution_count": 34,
   "metadata": {},
   "outputs": [
    {
     "data": {
      "text/plain": [
       "0.9861111111111112"
      ]
     },
     "execution_count": 34,
     "metadata": {},
     "output_type": "execute_result"
    }
   ],
   "source": [
    "knn_clf.score(x_test, y_test)"
   ]
  },
  {
   "cell_type": "code",
   "execution_count": 35,
   "metadata": {},
   "outputs": [
    {
     "name": "stdout",
     "output_type": "stream",
     "text": [
      "best_k =  1\n",
      "best_score =  0.9916666666666667\n"
     ]
    }
   ],
   "source": [
    "best_score = 0.0\n",
    "best_k = -1\n",
    "\n",
    "for k in range(1,11):\n",
    "    knn_clf = KNeighborsClassifier(n_neighbors = k)\n",
    "    knn_clf.fit(x_train, y_train)\n",
    "    score = knn_clf.score(x_test, y_test)\n",
    "\n",
    "    if score >= best_score:\n",
    "        best_k = k\n",
    "        best_score = score\n",
    "    \n",
    "print(\"best_k = \", best_k)\n",
    "print(\"best_score = \", best_score)\n",
    "\n"
   ]
  },
  {
   "cell_type": "code",
   "execution_count": 41,
   "metadata": {},
   "outputs": [],
   "source": [
    "KNeighborsClassifier?"
   ]
  },
  {
   "cell_type": "code",
   "execution_count": 40,
   "metadata": {},
   "outputs": [
    {
     "name": "stdout",
     "output_type": "stream",
     "text": [
      "best_k =  2\n",
      "best_score =  0.9916666666666667\n",
      "best_method =  distance\n"
     ]
    }
   ],
   "source": [
    "best_score = 0.0\n",
    "best_k = -1\n",
    "best_method = \"\"\n",
    "\n",
    "for method in [\"uniform\", \"distance\"]:\n",
    "    for k in range(1,11):\n",
    "        knn_clf = KNeighborsClassifier(n_neighbors = k, weights = method)\n",
    "        knn_clf.fit(x_train, y_train)\n",
    "        score = knn_clf.score(x_test, y_test)\n",
    "\n",
    "        if score >= best_score:\n",
    "            best_k = k\n",
    "            best_score = score\n",
    "            best_method = method\n",
    "    \n",
    "print(\"best_k = \", best_k)\n",
    "print(\"best_score = \", best_score)\n",
    "print(\"best_method = \", best_method)\n"
   ]
  },
  {
   "cell_type": "code",
   "execution_count": 43,
   "metadata": {},
   "outputs": [
    {
     "name": "stdout",
     "output_type": "stream",
     "text": [
      "best_k =  2\n",
      "best_score =  0.9944444444444445\n",
      "best_p =  10\n",
      "CPU times: user 34.1 s, sys: 294 ms, total: 34.4 s\n",
      "Wall time: 34.9 s\n"
     ]
    }
   ],
   "source": [
    "%%time\n",
    "best_score = 0.0\n",
    "best_k = -1\n",
    "best_p = -1\n",
    "\n",
    "for k in range(1,11):\n",
    "    for p in range(1,11):\n",
    "        knn_clf = KNeighborsClassifier(n_neighbors = k,weights = \"distance\", p = p)\n",
    "        knn_clf.fit(x_train, y_train)\n",
    "        score = knn_clf.score(x_test, y_test)\n",
    "\n",
    "        if score >= best_score:\n",
    "            best_k = k\n",
    "            best_score = score\n",
    "            best_p = p\n",
    "\n",
    "print(\"best_k = \", best_k)\n",
    "print(\"best_score = \", best_score)\n",
    "print(\"best_p = \", p)"
   ]
  },
  {
   "cell_type": "code",
   "execution_count": 46,
   "metadata": {},
   "outputs": [],
   "source": [
    "param_grid = [\n",
    "    {\n",
    "        \"weights\":[\"uniform\"],\n",
    "        \"n_neighbors\":[i for i in range(1, 11)]\n",
    "    },\n",
    "     {\n",
    "        \"weights\":[\"distance\"],\n",
    "        \"n_neighbors\":[i for i in range(1, 11)],\n",
    "         \"p\":[i for i in range(1, 11)]\n",
    "    }\n",
    "    \n",
    "]"
   ]
  },
  {
   "cell_type": "code",
   "execution_count": 47,
   "metadata": {},
   "outputs": [],
   "source": [
    "knn_clf = KNeighborsClassifier()"
   ]
  },
  {
   "cell_type": "code",
   "execution_count": 48,
   "metadata": {},
   "outputs": [],
   "source": [
    "from sklearn.model_selection import GridSearchCV"
   ]
  },
  {
   "cell_type": "code",
   "execution_count": 49,
   "metadata": {},
   "outputs": [],
   "source": [
    "grid_search = GridSearchCV(knn_clf, param_grid)"
   ]
  },
  {
   "cell_type": "code",
   "execution_count": 50,
   "metadata": {},
   "outputs": [
    {
     "name": "stdout",
     "output_type": "stream",
     "text": [
      "CPU times: user 1min 52s, sys: 760 ms, total: 1min 53s\n",
      "Wall time: 1min 54s\n"
     ]
    },
    {
     "data": {
      "text/plain": [
       "GridSearchCV(estimator=KNeighborsClassifier(),\n",
       "             param_grid=[{'n_neighbors': [1, 2, 3, 4, 5, 6, 7, 8, 9, 10],\n",
       "                          'weights': ['uniform']},\n",
       "                         {'n_neighbors': [1, 2, 3, 4, 5, 6, 7, 8, 9, 10],\n",
       "                          'p': [1, 2, 3, 4, 5, 6, 7, 8, 9, 10],\n",
       "                          'weights': ['distance']}])"
      ]
     },
     "execution_count": 50,
     "metadata": {},
     "output_type": "execute_result"
    }
   ],
   "source": [
    "%%time\n",
    "grid_search.fit(x_train, y_train)"
   ]
  },
  {
   "cell_type": "code",
   "execution_count": 51,
   "metadata": {},
   "outputs": [],
   "source": [
    "grid_search?"
   ]
  },
  {
   "cell_type": "code",
   "execution_count": 52,
   "metadata": {},
   "outputs": [
    {
     "data": {
      "text/plain": [
       "KNeighborsClassifier(n_neighbors=3, weights='distance')"
      ]
     },
     "execution_count": 52,
     "metadata": {},
     "output_type": "execute_result"
    }
   ],
   "source": [
    "grid_search.best_estimator_"
   ]
  },
  {
   "cell_type": "code",
   "execution_count": 53,
   "metadata": {},
   "outputs": [
    {
     "data": {
      "text/plain": [
       "0.9888574332171893"
      ]
     },
     "execution_count": 53,
     "metadata": {},
     "output_type": "execute_result"
    }
   ],
   "source": [
    "grid_search.best_score_"
   ]
  },
  {
   "cell_type": "code",
   "execution_count": 54,
   "metadata": {},
   "outputs": [
    {
     "data": {
      "text/plain": [
       "{'n_neighbors': 3, 'p': 2, 'weights': 'distance'}"
      ]
     },
     "execution_count": 54,
     "metadata": {},
     "output_type": "execute_result"
    }
   ],
   "source": [
    "grid_search.best_params_"
   ]
  },
  {
   "cell_type": "code",
   "execution_count": 56,
   "metadata": {},
   "outputs": [
    {
     "data": {
      "text/plain": [
       "KNeighborsClassifier()"
      ]
     },
     "execution_count": 56,
     "metadata": {},
     "output_type": "execute_result"
    }
   ],
   "source": [
    "knn_clf.fit(x_train, y_train)"
   ]
  },
  {
   "cell_type": "code",
   "execution_count": 57,
   "metadata": {},
   "outputs": [
    {
     "data": {
      "text/plain": [
       "0.9805555555555555"
      ]
     },
     "execution_count": 57,
     "metadata": {},
     "output_type": "execute_result"
    }
   ],
   "source": [
    "knn_clf.score(x_test, y_test)"
   ]
  },
  {
   "cell_type": "code",
   "execution_count": null,
   "metadata": {},
   "outputs": [],
   "source": []
  }
 ],
 "metadata": {
  "kernelspec": {
   "display_name": "Python 3",
   "language": "python",
   "name": "python3"
  },
  "language_info": {
   "codemirror_mode": {
    "name": "ipython",
    "version": 3
   },
   "file_extension": ".py",
   "mimetype": "text/x-python",
   "name": "python",
   "nbconvert_exporter": "python",
   "pygments_lexer": "ipython3",
   "version": "3.8.5"
  }
 },
 "nbformat": 4,
 "nbformat_minor": 4
}
