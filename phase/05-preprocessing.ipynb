{
 "cells": [
  {
   "cell_type": "code",
   "execution_count": 1,
   "metadata": {},
   "outputs": [],
   "source": [
    "import numpy as np\n",
    "import matplotlib.pyplot as plt"
   ]
  },
  {
   "cell_type": "markdown",
   "metadata": {},
   "source": [
    "# 数据归一化"
   ]
  },
  {
   "cell_type": "code",
   "execution_count": 2,
   "metadata": {},
   "outputs": [
    {
     "data": {
      "text/plain": [
       "array([96, 79, 11, 91,  4, 81, 58, 14, 64, 64, 72, 94, 57, 33, 87, 67, 92,\n",
       "        9, 58, 50, 58, 21, 83, 53,  8, 63, 52, 71, 43, 33, 59, 89, 74, 27,\n",
       "       77, 81, 94, 19, 18,  6, 25, 67, 59, 13, 87, 16, 29, 18, 56,  0, 44,\n",
       "        1, 90, 69, 25, 47, 43, 95, 10, 78, 38, 30, 29, 39, 52, 74, 49, 62,\n",
       "       34, 83, 65, 46,  6, 24, 35, 74, 23, 76, 73,  8, 65, 57, 55, 76, 41,\n",
       "        1,  4, 72, 21, 99, 23, 10, 17, 76, 32, 14, 53, 47, 34, 34])"
      ]
     },
     "execution_count": 2,
     "metadata": {},
     "output_type": "execute_result"
    }
   ],
   "source": [
    "x = np.random.randint(0,100, size = 100)\n",
    "x"
   ]
  },
  {
   "cell_type": "code",
   "execution_count": 3,
   "metadata": {},
   "outputs": [
    {
     "data": {
      "text/plain": [
       "array([0.96969697, 0.7979798 , 0.11111111, 0.91919192, 0.04040404,\n",
       "       0.81818182, 0.58585859, 0.14141414, 0.64646465, 0.64646465,\n",
       "       0.72727273, 0.94949495, 0.57575758, 0.33333333, 0.87878788,\n",
       "       0.67676768, 0.92929293, 0.09090909, 0.58585859, 0.50505051,\n",
       "       0.58585859, 0.21212121, 0.83838384, 0.53535354, 0.08080808,\n",
       "       0.63636364, 0.52525253, 0.71717172, 0.43434343, 0.33333333,\n",
       "       0.5959596 , 0.8989899 , 0.74747475, 0.27272727, 0.77777778,\n",
       "       0.81818182, 0.94949495, 0.19191919, 0.18181818, 0.06060606,\n",
       "       0.25252525, 0.67676768, 0.5959596 , 0.13131313, 0.87878788,\n",
       "       0.16161616, 0.29292929, 0.18181818, 0.56565657, 0.        ,\n",
       "       0.44444444, 0.01010101, 0.90909091, 0.6969697 , 0.25252525,\n",
       "       0.47474747, 0.43434343, 0.95959596, 0.1010101 , 0.78787879,\n",
       "       0.38383838, 0.3030303 , 0.29292929, 0.39393939, 0.52525253,\n",
       "       0.74747475, 0.49494949, 0.62626263, 0.34343434, 0.83838384,\n",
       "       0.65656566, 0.46464646, 0.06060606, 0.24242424, 0.35353535,\n",
       "       0.74747475, 0.23232323, 0.76767677, 0.73737374, 0.08080808,\n",
       "       0.65656566, 0.57575758, 0.55555556, 0.76767677, 0.41414141,\n",
       "       0.01010101, 0.04040404, 0.72727273, 0.21212121, 1.        ,\n",
       "       0.23232323, 0.1010101 , 0.17171717, 0.76767677, 0.32323232,\n",
       "       0.14141414, 0.53535354, 0.47474747, 0.34343434, 0.34343434])"
      ]
     },
     "execution_count": 3,
     "metadata": {},
     "output_type": "execute_result"
    }
   ],
   "source": [
    "(x - np.min(x)) / (np.max(x) - np.min(x))"
   ]
  },
  {
   "cell_type": "markdown",
   "metadata": {},
   "source": [
    "## 矩阵的最值归一化"
   ]
  },
  {
   "cell_type": "code",
   "execution_count": 4,
   "metadata": {},
   "outputs": [],
   "source": [
    "X = np.random.randint(0,100, (50, 2))"
   ]
  },
  {
   "cell_type": "code",
   "execution_count": 5,
   "metadata": {},
   "outputs": [],
   "source": [
    "X = np.array(X, dtype=float)"
   ]
  },
  {
   "cell_type": "code",
   "execution_count": 6,
   "metadata": {},
   "outputs": [],
   "source": [
    "X[:,0] = (X[:,0] - np.min(X[:,0])) / (np.max(X[:,0]) - np.min(X[:,0]))"
   ]
  },
  {
   "cell_type": "code",
   "execution_count": 7,
   "metadata": {},
   "outputs": [
    {
     "data": {
      "text/plain": [
       "array([0.62105263, 0.09473684, 0.72631579, 0.21052632, 0.31578947,\n",
       "       0.09473684, 0.8       , 0.12631579, 0.77894737, 0.09473684,\n",
       "       0.29473684, 0.52631579, 0.16842105, 0.95789474, 0.35789474,\n",
       "       0.78947368, 0.73684211, 0.8       , 0.29473684, 0.37894737,\n",
       "       0.57894737, 0.88421053, 0.11578947, 0.33684211, 0.83157895,\n",
       "       0.68421053, 0.32631579, 0.48421053, 0.        , 0.54736842,\n",
       "       0.49473684, 0.26315789, 0.91578947, 0.02105263, 0.34736842,\n",
       "       0.98947368, 0.83157895, 0.92631579, 0.4       , 0.42105263,\n",
       "       0.22105263, 0.18947368, 0.74736842, 0.24210526, 0.48421053,\n",
       "       1.        , 0.2       , 0.09473684, 0.46315789, 1.        ])"
      ]
     },
     "execution_count": 7,
     "metadata": {},
     "output_type": "execute_result"
    }
   ],
   "source": [
    "X[:,0]"
   ]
  },
  {
   "cell_type": "code",
   "execution_count": 8,
   "metadata": {},
   "outputs": [],
   "source": [
    "X[:,1] = (X[:,1] - np.min(X[:,1])) / (np.max(X[:,1]) - np.min(X[:,1]))"
   ]
  },
  {
   "cell_type": "code",
   "execution_count": 9,
   "metadata": {},
   "outputs": [
    {
     "data": {
      "text/plain": [
       "array([0.01030928, 1.        , 0.84536082, 0.56701031, 0.29896907,\n",
       "       0.90721649, 0.40206186, 0.2371134 , 0.02061856, 0.6185567 ,\n",
       "       0.15463918, 0.64948454, 0.43298969, 0.60824742, 0.62886598,\n",
       "       0.4742268 , 0.07216495, 0.19587629, 0.96907216, 0.59793814,\n",
       "       0.26804124, 0.97938144, 0.17525773, 0.69072165, 0.73195876,\n",
       "       0.89690722, 0.07216495, 0.36082474, 0.20618557, 0.03092784,\n",
       "       0.36082474, 0.79381443, 0.        , 0.1443299 , 0.22680412,\n",
       "       0.05154639, 0.21649485, 0.96907216, 0.18556701, 0.35051546,\n",
       "       0.97938144, 0.44329897, 0.79381443, 0.93814433, 0.62886598,\n",
       "       0.12371134, 0.6185567 , 0.54639175, 0.07216495, 0.19587629])"
      ]
     },
     "execution_count": 9,
     "metadata": {},
     "output_type": "execute_result"
    }
   ],
   "source": [
    "X[:,1]"
   ]
  },
  {
   "cell_type": "code",
   "execution_count": 10,
   "metadata": {},
   "outputs": [
    {
     "data": {
      "image/png": "[encoded data removed]",
      "text/plain": [
       "<Figure size 432x288 with 1 Axes>"
      ]
     },
     "metadata": {
      "needs_background": "light"
     },
     "output_type": "display_data"
    }
   ],
   "source": [
    "plt.scatter(X[:,0], X[:,1])\n",
    "plt.show()"
   ]
  },
  {
   "cell_type": "code",
   "execution_count": 11,
   "metadata": {},
   "outputs": [
    {
     "data": {
      "text/plain": [
       "0.4842105263157894"
      ]
     },
     "execution_count": 11,
     "metadata": {},
     "output_type": "execute_result"
    }
   ],
   "source": [
    "np.mean(X[:,0])"
   ]
  },
  {
   "cell_type": "code",
   "execution_count": 12,
   "metadata": {},
   "outputs": [
    {
     "data": {
      "text/plain": [
       "0.2994066153738756"
      ]
     },
     "execution_count": 12,
     "metadata": {},
     "output_type": "execute_result"
    }
   ],
   "source": [
    "np.std(X[:,0])"
   ]
  },
  {
   "cell_type": "markdown",
   "metadata": {},
   "source": [
    "# 矩阵的均值方差归一化"
   ]
  },
  {
   "cell_type": "code",
   "execution_count": 13,
   "metadata": {},
   "outputs": [],
   "source": [
    "X2 = np.random.randint(0,100, (50,2))"
   ]
  },
  {
   "cell_type": "code",
   "execution_count": 14,
   "metadata": {},
   "outputs": [],
   "source": [
    "X2 = np.array(X2, dtype=float)"
   ]
  },
  {
   "cell_type": "code",
   "execution_count": 15,
   "metadata": {},
   "outputs": [],
   "source": [
    "X2[:,0] = (X2[:,0] - np.mean(X2[:,0])) / np.std(X2[:,0])"
   ]
  },
  {
   "cell_type": "code",
   "execution_count": 16,
   "metadata": {
    "scrolled": true
   },
   "outputs": [
    {
     "data": {
      "text/plain": [
       "array([ 1.29798198,  0.70956348, -1.5748848 ,  0.05191928,  1.40182054,\n",
       "       -1.22875627,  0.36343495, -0.01730643,  1.05569201,  0.15575784,\n",
       "        0.74417633, -0.39804781,  1.22875627,  0.46727351, -0.67495063,\n",
       "       -1.50565909,  1.22875627,  0.29420925,  0.29420925, -1.22875627,\n",
       "       -0.46727351,  0.50188636,  1.29798198,  0.36343495,  0.12114498,\n",
       "       -0.43266066, -1.71333621,  1.36720768, -0.60572492, -1.26336913,\n",
       "        0.36343495, -1.5748848 , -1.22875627,  1.15953057,  1.02107916,\n",
       "        0.70956348, -0.60572492, -0.36343495, -0.64033778, -1.15953057,\n",
       "        1.02107916,  0.15575784, -0.9864663 ,  0.88262775,  1.40182054,\n",
       "        0.77878919, -0.50188636, -1.88640047, -1.67872336,  1.29798198])"
      ]
     },
     "execution_count": 16,
     "metadata": {},
     "output_type": "execute_result"
    }
   ],
   "source": [
    "X2[:,0]"
   ]
  },
  {
   "cell_type": "code",
   "execution_count": 17,
   "metadata": {},
   "outputs": [
    {
     "data": {
      "text/plain": [
       "array([-0.40464041, -0.54941337,  0.42780408, -0.47702689, -0.36844717,\n",
       "       -0.22367422, -0.18748098,  0.28303113,  1.87553364, -1.30947138,\n",
       "       -1.27327814, -1.49043758, -0.87515252,  1.94792012,  0.10206493,\n",
       "        0.35541761, -0.83895928,  2.05649983, -1.49043758, -0.36844717,\n",
       "        0.50019056, -0.73037956,  1.98411336,  1.1878621 , -0.36844717,\n",
       "        0.60877028, -0.15128774,  1.91172688, -0.83895928,  0.78973647,\n",
       "        0.31922437,  0.13825817,  0.64496352, -0.15128774,  0.06587169,\n",
       "        0.06587169, -0.83895928,  1.07928238,  0.89831619, -0.83895928,\n",
       "       -0.91134576, -1.4180511 , -1.4180511 ,  1.8393404 , -1.45424434,\n",
       "        0.71734999,  0.21064465,  0.42780408, -0.65799308, -0.80276604])"
      ]
     },
     "execution_count": 17,
     "metadata": {},
     "output_type": "execute_result"
    }
   ],
   "source": [
    "(X2[:,1] - np.mean(X2[:,1])) / np.std(X2[:,1])"
   ]
  },
  {
   "cell_type": "code",
   "execution_count": null,
   "metadata": {},
   "outputs": [],
   "source": []
  },
  {
   "cell_type": "code",
   "execution_count": 18,
   "metadata": {},
   "outputs": [
    {
     "data": {
      "image/png": "[encoded data removed]",
      "text/plain": [
       "<Figure size 432x288 with 1 Axes>"
      ]
     },
     "metadata": {
      "needs_background": "light"
     },
     "output_type": "display_data"
    }
   ],
   "source": [
    "plt.scatter(X2[:,0], X2[:,1])\n",
    "plt.show()"
   ]
  },
  {
   "cell_type": "markdown",
   "metadata": {},
   "source": [
    "## 数据归一化使用"
   ]
  },
  {
   "cell_type": "code",
   "execution_count": 19,
   "metadata": {},
   "outputs": [],
   "source": [
    "import numpy as np\n",
    "from sklearn import datasets"
   ]
  },
  {
   "cell_type": "code",
   "execution_count": 20,
   "metadata": {},
   "outputs": [],
   "source": [
    "iris = datasets.load_iris()"
   ]
  },
  {
   "cell_type": "code",
   "execution_count": 21,
   "metadata": {},
   "outputs": [],
   "source": [
    "x = iris.data\n",
    "y = iris.target"
   ]
  },
  {
   "cell_type": "code",
   "execution_count": 22,
   "metadata": {},
   "outputs": [
    {
     "data": {
      "text/plain": [
       "array([[5.1, 3.5, 1.4, 0.2],\n",
       "       [4.9, 3. , 1.4, 0.2],\n",
       "       [4.7, 3.2, 1.3, 0.2],\n",
       "       [4.6, 3.1, 1.5, 0.2],\n",
       "       [5. , 3.6, 1.4, 0.2],\n",
       "       [5.4, 3.9, 1.7, 0.4],\n",
       "       [4.6, 3.4, 1.4, 0.3],\n",
       "       [5. , 3.4, 1.5, 0.2],\n",
       "       [4.4, 2.9, 1.4, 0.2],\n",
       "       [4.9, 3.1, 1.5, 0.1]])"
      ]
     },
     "execution_count": 22,
     "metadata": {},
     "output_type": "execute_result"
    }
   ],
   "source": [
    "x[:10,:]"
   ]
  },
  {
   "cell_type": "code",
   "execution_count": 23,
   "metadata": {},
   "outputs": [],
   "source": [
    "#1. 生成测试集跟训练集"
   ]
  },
  {
   "cell_type": "code",
   "execution_count": 24,
   "metadata": {},
   "outputs": [],
   "source": [
    "from sklearn.model_selection import train_test_split"
   ]
  },
  {
   "cell_type": "code",
   "execution_count": 25,
   "metadata": {},
   "outputs": [],
   "source": [
    "x_train, x_test, y_train, y_test = train_test_split(x, y, test_size = 0.2, random_state = 666)"
   ]
  },
  {
   "cell_type": "markdown",
   "metadata": {},
   "source": [
    "#### scikit-learn 中的 StandardScaler 均值方差归一化"
   ]
  },
  {
   "cell_type": "code",
   "execution_count": 26,
   "metadata": {},
   "outputs": [],
   "source": [
    "#2. 数据归一化"
   ]
  },
  {
   "cell_type": "code",
   "execution_count": 27,
   "metadata": {},
   "outputs": [],
   "source": [
    "from sklearn.preprocessing import StandardScaler"
   ]
  },
  {
   "cell_type": "code",
   "execution_count": 28,
   "metadata": {},
   "outputs": [],
   "source": [
    "standardScaler = StandardScaler()"
   ]
  },
  {
   "cell_type": "code",
   "execution_count": 29,
   "metadata": {},
   "outputs": [
    {
     "data": {
      "text/plain": [
       "StandardScaler()"
      ]
     },
     "execution_count": 29,
     "metadata": {},
     "output_type": "execute_result"
    }
   ],
   "source": [
    "standardScaler.fit(x_train)"
   ]
  },
  {
   "cell_type": "code",
   "execution_count": 30,
   "metadata": {},
   "outputs": [
    {
     "data": {
      "text/plain": [
       "array([5.83416667, 3.08666667, 3.70833333, 1.17      ])"
      ]
     },
     "execution_count": 30,
     "metadata": {},
     "output_type": "execute_result"
    }
   ],
   "source": [
    "standardScaler.mean_"
   ]
  },
  {
   "cell_type": "code",
   "execution_count": 31,
   "metadata": {},
   "outputs": [
    {
     "data": {
      "text/plain": [
       "array([0.81019502, 0.44327067, 1.76401924, 0.75317107])"
      ]
     },
     "execution_count": 31,
     "metadata": {},
     "output_type": "execute_result"
    }
   ],
   "source": [
    "standardScaler.scale_"
   ]
  },
  {
   "cell_type": "code",
   "execution_count": 32,
   "metadata": {},
   "outputs": [],
   "source": [
    "x_train = standardScaler.transform(x_train) #训练集归一化"
   ]
  },
  {
   "cell_type": "code",
   "execution_count": 33,
   "metadata": {},
   "outputs": [],
   "source": [
    "x_test_standard = standardScaler.transform(x_test)"
   ]
  },
  {
   "cell_type": "code",
   "execution_count": 34,
   "metadata": {},
   "outputs": [
    {
     "data": {
      "text/plain": [
       "array([[-0.28902506, -0.19551636,  0.44878573,  0.43814747],\n",
       "       [-0.04217092, -0.64670795,  0.78891808,  1.63309511],\n",
       "       [-1.0295875 , -1.77468693, -0.23147896, -0.22571233],\n",
       "       [-0.04217092, -0.87230374,  0.78891808,  0.96923531],\n",
       "       [-1.52329579,  0.03007944, -1.25187599, -1.28788802],\n",
       "       [-0.41245214, -1.32349533,  0.16534211,  0.17260355],\n",
       "       [-0.16559799, -0.64670795,  0.44878573,  0.17260355],\n",
       "       [ 0.82181859, -0.19551636,  0.8456068 ,  1.10200727],\n",
       "       [ 0.57496445, -1.77468693,  0.39209701,  0.17260355],\n",
       "       [-0.41245214, -1.09789954,  0.39209701,  0.03983159],\n",
       "       [ 1.06867274,  0.03007944,  0.39209701,  0.30537551],\n",
       "       [-1.64672287, -1.77468693, -1.36525344, -1.15511606],\n",
       "       [-1.27644165,  0.03007944, -1.19518726, -1.28788802],\n",
       "       [-0.53587921,  0.70686683, -1.25187599, -1.0223441 ],\n",
       "       [ 1.68580811,  1.15805842,  1.35580532,  1.76586707],\n",
       "       [-0.04217092, -0.87230374,  0.22203084, -0.22571233],\n",
       "       [-1.52329579,  1.15805842, -1.53531961, -1.28788802],\n",
       "       [ 1.68580811,  0.25567524,  1.29911659,  0.83646335],\n",
       "       [ 1.31552689,  0.03007944,  0.78891808,  1.50032315],\n",
       "       [ 0.69839152, -0.87230374,  0.90229552,  0.96923531],\n",
       "       [ 0.57496445,  0.48127103,  0.56216318,  0.57091943],\n",
       "       [-1.0295875 ,  0.70686683, -1.25187599, -1.28788802],\n",
       "       [ 2.30294347, -1.09789954,  1.80931511,  1.50032315],\n",
       "       [-1.0295875 ,  0.48127103, -1.30856471, -1.28788802],\n",
       "       [ 0.45153738, -0.42111215,  0.33540828,  0.17260355],\n",
       "       [ 0.08125616, -0.19551636,  0.27871956,  0.43814747],\n",
       "       [-1.0295875 ,  0.25567524, -1.42194216, -1.28788802],\n",
       "       [-0.41245214, -1.77468693,  0.16534211,  0.17260355],\n",
       "       [ 0.57496445,  0.48127103,  1.29911659,  1.76586707],\n",
       "       [ 2.30294347, -0.19551636,  1.35580532,  1.50032315]])"
      ]
     },
     "execution_count": 34,
     "metadata": {},
     "output_type": "execute_result"
    }
   ],
   "source": [
    "x_test_standard"
   ]
  },
  {
   "cell_type": "code",
   "execution_count": 35,
   "metadata": {},
   "outputs": [],
   "source": [
    "# 3. 算法分类 "
   ]
  },
  {
   "cell_type": "code",
   "execution_count": 36,
   "metadata": {},
   "outputs": [],
   "source": [
    "from sklearn.neighbors import KNeighborsClassifier"
   ]
  },
  {
   "cell_type": "code",
   "execution_count": 37,
   "metadata": {},
   "outputs": [],
   "source": [
    "param_grid = [\n",
    "    {\n",
    "        \"weights\":[\"uniform\"],\n",
    "        \"n_neighbors\":[i for i in range(1, 11)]\n",
    "    },\n",
    "     {\n",
    "        \"weights\":[\"distance\"],\n",
    "        \"n_neighbors\":[i for i in range(1, 11)],\n",
    "         \"p\":[i for i in range(1, 11)]\n",
    "    }\n",
    "    \n",
    "]"
   ]
  },
  {
   "cell_type": "code",
   "execution_count": 38,
   "metadata": {},
   "outputs": [],
   "source": [
    "knn_clf = KNeighborsClassifier()"
   ]
  },
  {
   "cell_type": "code",
   "execution_count": 39,
   "metadata": {},
   "outputs": [],
   "source": [
    "from sklearn.model_selection import GridSearchCV"
   ]
  },
  {
   "cell_type": "code",
   "execution_count": 40,
   "metadata": {},
   "outputs": [],
   "source": [
    "grid_search = GridSearchCV(knn_clf, param_grid)"
   ]
  },
  {
   "cell_type": "code",
   "execution_count": 41,
   "metadata": {},
   "outputs": [
    {
     "name": "stdout",
     "output_type": "stream",
     "text": [
      "CPU times: user 799 ms, sys: 8.41 ms, total: 808 ms\n",
      "Wall time: 808 ms\n"
     ]
    },
    {
     "data": {
      "text/plain": [
       "GridSearchCV(estimator=KNeighborsClassifier(),\n",
       "             param_grid=[{'n_neighbors': [1, 2, 3, 4, 5, 6, 7, 8, 9, 10],\n",
       "                          'weights': ['uniform']},\n",
       "                         {'n_neighbors': [1, 2, 3, 4, 5, 6, 7, 8, 9, 10],\n",
       "                          'p': [1, 2, 3, 4, 5, 6, 7, 8, 9, 10],\n",
       "                          'weights': ['distance']}])"
      ]
     },
     "execution_count": 41,
     "metadata": {},
     "output_type": "execute_result"
    }
   ],
   "source": [
    "%%time\n",
    "grid_search.fit(x_train, y_train)"
   ]
  },
  {
   "cell_type": "code",
   "execution_count": 42,
   "metadata": {},
   "outputs": [
    {
     "data": {
      "text/plain": [
       "KNeighborsClassifier()"
      ]
     },
     "execution_count": 42,
     "metadata": {},
     "output_type": "execute_result"
    }
   ],
   "source": [
    "knn_clf.fit(x_train, y_train)"
   ]
  },
  {
   "cell_type": "code",
   "execution_count": 43,
   "metadata": {},
   "outputs": [
    {
     "data": {
      "text/plain": [
       "1.0"
      ]
     },
     "execution_count": 43,
     "metadata": {},
     "output_type": "execute_result"
    }
   ],
   "source": [
    "knn_clf.score(x_test_standard, y_test)"
   ]
  },
  {
   "cell_type": "markdown",
   "metadata": {},
   "source": [
    "## 使用自己封装的 StandardScaler 均值方差归一化"
   ]
  },
  {
   "cell_type": "code",
   "execution_count": 44,
   "metadata": {
    "scrolled": true
   },
   "outputs": [],
   "source": [
    "from playML.preprocess import StandardScaler"
   ]
  },
  {
   "cell_type": "code",
   "execution_count": 45,
   "metadata": {},
   "outputs": [],
   "source": [
    "std = StandardScaler()"
   ]
  },
  {
   "cell_type": "code",
   "execution_count": 46,
   "metadata": {},
   "outputs": [
    {
     "data": {
      "text/plain": [
       "<playML.preprocess.StandardScaler at 0x7fe24860dc70>"
      ]
     },
     "execution_count": 46,
     "metadata": {},
     "output_type": "execute_result"
    }
   ],
   "source": [
    "std.fit(x_train)"
   ]
  },
  {
   "cell_type": "code",
   "execution_count": 47,
   "metadata": {},
   "outputs": [
    {
     "data": {
      "text/plain": [
       "4"
      ]
     },
     "execution_count": 47,
     "metadata": {},
     "output_type": "execute_result"
    }
   ],
   "source": [
    "len(np.array([np.mean(x_train[:,i]) for i in range(x_train.shape[1])]))"
   ]
  },
  {
   "cell_type": "code",
   "execution_count": 48,
   "metadata": {},
   "outputs": [
    {
     "data": {
      "text/plain": [
       "array([ 1.30266168e-15,  2.47949809e-15, -9.62193288e-17,  3.84877315e-16])"
      ]
     },
     "execution_count": 48,
     "metadata": {},
     "output_type": "execute_result"
    }
   ],
   "source": [
    "std.mean_"
   ]
  },
  {
   "cell_type": "code",
   "execution_count": 49,
   "metadata": {},
   "outputs": [
    {
     "data": {
      "text/plain": [
       "4"
      ]
     },
     "execution_count": 49,
     "metadata": {},
     "output_type": "execute_result"
    }
   ],
   "source": [
    "len(std.mean_)"
   ]
  },
  {
   "cell_type": "code",
   "execution_count": 50,
   "metadata": {},
   "outputs": [
    {
     "data": {
      "text/plain": [
       "array([[-0.90616043,  0.93246262, -1.30856471, -1.28788802],\n",
       "       [-1.15301457, -0.19551636, -1.30856471, -1.28788802],\n",
       "       [-0.16559799, -0.64670795,  0.22203084,  0.17260355],\n",
       "       [ 0.45153738,  0.70686683,  0.95898425,  1.50032315],\n",
       "       [-0.90616043, -1.32349533, -0.40154513, -0.09294037],\n",
       "       [ 1.43895396,  0.25567524,  0.56216318,  0.30537551],\n",
       "       [ 0.3281103 , -1.09789954,  1.0723617 ,  0.30537551],\n",
       "       [ 2.1795164 , -0.19551636,  1.63924894,  1.23477923],\n",
       "       [-0.78273335,  2.2860374 , -1.25187599, -1.42065998],\n",
       "       [ 0.45153738, -2.00028272,  0.44878573,  0.43814747],\n",
       "       [ 1.80923518, -0.42111215,  1.46918276,  0.83646335],\n",
       "       [ 0.69839152,  0.25567524,  0.90229552,  1.50032315],\n",
       "       [ 0.20468323,  0.70686683,  0.44878573,  0.57091943],\n",
       "       [-0.78273335, -0.87230374,  0.10865339,  0.30537551],\n",
       "       [-0.53587921,  1.38365421, -1.25187599, -1.28788802],\n",
       "       [-0.65930628,  1.38365421, -1.25187599, -1.28788802],\n",
       "       [-1.0295875 ,  0.93246262, -1.19518726, -0.75680017],\n",
       "       [-1.77014994, -0.42111215, -1.30856471, -1.28788802],\n",
       "       [-0.04217092, -0.87230374,  0.10865339,  0.03983159],\n",
       "       [-0.78273335,  0.70686683, -1.30856471, -1.28788802],\n",
       "       [-1.52329579,  0.70686683, -1.30856471, -1.15511606],\n",
       "       [ 0.82181859,  0.25567524,  0.78891808,  1.10200727],\n",
       "       [-0.16559799, -0.42111215,  0.27871956,  0.17260355],\n",
       "       [ 0.94524567, -0.19551636,  0.39209701,  0.30537551],\n",
       "       [ 0.20468323, -0.42111215,  0.44878573,  0.43814747],\n",
       "       [-1.39986872,  0.25567524, -1.19518726, -1.28788802],\n",
       "       [-1.15301457,  1.15805842, -1.30856471, -1.42065998],\n",
       "       [ 1.06867274,  0.03007944,  1.0723617 ,  1.63309511],\n",
       "       [ 0.57496445, -0.87230374,  0.67554063,  0.83646335],\n",
       "       [ 0.3281103 , -0.64670795,  0.56216318,  0.03983159],\n",
       "       [ 0.45153738, -0.64670795,  0.6188519 ,  0.83646335],\n",
       "       [-0.16559799,  2.96282478, -1.25187599, -1.0223441 ],\n",
       "       [ 0.57496445, -1.32349533,  0.67554063,  0.43814747],\n",
       "       [ 0.69839152, -0.42111215,  0.33540828,  0.17260355],\n",
       "       [-0.90616043,  1.60925001, -1.02512109, -1.0223441 ],\n",
       "       [ 1.19209981, -0.64670795,  0.6188519 ,  0.30537551],\n",
       "       [-0.90616043,  0.93246262, -1.30856471, -1.15511606],\n",
       "       [-1.89357701, -0.19551636, -1.47863088, -1.42065998],\n",
       "       [ 0.08125616, -0.19551636,  0.78891808,  0.83646335],\n",
       "       [ 0.69839152, -0.64670795,  1.0723617 ,  1.23477923],\n",
       "       [-0.28902506, -0.64670795,  0.67554063,  1.10200727],\n",
       "       [-0.41245214, -1.54909113, -0.00472406, -0.22571233],\n",
       "       [ 1.31552689,  0.03007944,  0.67554063,  0.43814747],\n",
       "       [ 0.57496445,  0.70686683,  1.0723617 ,  1.63309511],\n",
       "       [ 0.82181859, -0.19551636,  1.18573914,  1.36755119],\n",
       "       [-0.16559799,  1.60925001, -1.13849854, -1.15511606],\n",
       "       [ 0.94524567, -0.42111215,  0.50547446,  0.17260355],\n",
       "       [ 1.06867274,  0.48127103,  1.12905042,  1.76586707],\n",
       "       [-1.27644165, -0.19551636, -1.30856471, -1.42065998],\n",
       "       [-1.0295875 ,  1.15805842, -1.30856471, -1.28788802],\n",
       "       [ 0.20468323, -0.19551636,  0.6188519 ,  0.83646335],\n",
       "       [-1.0295875 , -0.19551636, -1.19518726, -1.28788802],\n",
       "       [ 0.3281103 , -0.19551636,  0.67554063,  0.83646335],\n",
       "       [ 0.69839152,  0.03007944,  1.01567297,  0.83646335],\n",
       "       [-0.90616043,  1.38365421, -1.25187599, -1.0223441 ],\n",
       "       [-0.16559799, -0.19551636,  0.27871956,  0.03983159],\n",
       "       [-1.0295875 ,  0.93246262, -1.36525344, -1.15511606],\n",
       "       [-0.90616043,  1.60925001, -1.25187599, -1.15511606],\n",
       "       [-1.52329579,  0.25567524, -1.30856471, -1.28788802],\n",
       "       [-0.53587921, -0.19551636,  0.44878573,  0.43814747],\n",
       "       [ 0.82181859, -0.64670795,  0.50547446,  0.43814747],\n",
       "       [ 0.3281103 , -0.64670795,  0.16534211,  0.17260355],\n",
       "       [-1.27644165,  0.70686683, -1.19518726, -1.28788802],\n",
       "       [-0.90616043,  0.48127103, -1.13849854, -0.88957213],\n",
       "       [-0.04217092, -0.87230374,  0.78891808,  0.96923531],\n",
       "       [-0.28902506, -0.19551636,  0.22203084,  0.17260355],\n",
       "       [ 0.57496445, -0.64670795,  0.78891808,  0.43814747],\n",
       "       [ 1.06867274,  0.48127103,  1.12905042,  1.23477923],\n",
       "       [ 1.68580811, -0.19551636,  1.18573914,  0.57091943],\n",
       "       [ 1.06867274, -0.19551636,  0.8456068 ,  1.50032315],\n",
       "       [-1.15301457,  0.03007944, -1.25187599, -1.42065998],\n",
       "       [-1.15301457, -1.32349533,  0.44878573,  0.70369139],\n",
       "       [-0.16559799, -1.32349533,  0.73222935,  1.10200727],\n",
       "       [-1.15301457, -1.54909113, -0.23147896, -0.22571233],\n",
       "       [-0.41245214, -1.54909113,  0.05196466, -0.09294037],\n",
       "       [ 1.06867274, -1.32349533,  1.18573914,  0.83646335],\n",
       "       [ 0.82181859, -0.19551636,  1.01567297,  0.83646335],\n",
       "       [-0.16559799, -1.09789954, -0.11810151, -0.22571233],\n",
       "       [ 0.20468323, -2.00028272,  0.73222935,  0.43814747],\n",
       "       [ 1.06867274,  0.03007944,  0.56216318,  0.43814747],\n",
       "       [-1.15301457,  0.03007944, -1.25187599, -1.28788802],\n",
       "       [ 0.57496445, -1.32349533,  0.73222935,  0.96923531],\n",
       "       [-1.39986872,  0.25567524, -1.36525344, -1.28788802],\n",
       "       [ 0.20468323, -0.87230374,  0.78891808,  0.57091943],\n",
       "       [-0.04217092, -1.09789954,  0.16534211,  0.03983159],\n",
       "       [ 1.31552689,  0.25567524,  1.12905042,  1.50032315],\n",
       "       [-1.77014994, -0.19551636, -1.36525344, -1.28788802],\n",
       "       [ 1.56238103, -0.19551636,  1.24242787,  1.23477923],\n",
       "       [ 1.19209981,  0.25567524,  1.24242787,  1.50032315],\n",
       "       [-0.78273335,  0.93246262, -1.25187599, -1.28788802],\n",
       "       [ 2.54979762,  1.60925001,  1.52587149,  1.10200727],\n",
       "       [ 0.69839152, -0.64670795,  1.0723617 ,  1.36755119],\n",
       "       [-0.28902506, -0.42111215, -0.06141278,  0.17260355],\n",
       "       [-0.41245214,  2.51163319, -1.30856471, -1.28788802],\n",
       "       [-1.27644165, -0.19551636, -1.30856471, -1.15511606],\n",
       "       [ 0.57496445, -0.42111215,  1.0723617 ,  0.83646335],\n",
       "       [-1.77014994,  0.25567524, -1.36525344, -1.28788802],\n",
       "       [-0.53587921,  1.8348458 , -1.13849854, -1.0223441 ],\n",
       "       [-1.0295875 ,  0.70686683, -1.19518726, -1.0223441 ],\n",
       "       [ 1.06867274, -0.19551636,  0.73222935,  0.70369139],\n",
       "       [-0.53587921,  1.8348458 , -1.36525344, -1.0223441 ],\n",
       "       [ 2.30294347, -0.64670795,  1.69593766,  1.10200727],\n",
       "       [-0.28902506, -0.87230374,  0.27871956,  0.17260355],\n",
       "       [ 1.19209981, -0.19551636,  1.01567297,  1.23477923],\n",
       "       [-0.41245214,  0.93246262, -1.36525344, -1.28788802],\n",
       "       [-1.27644165,  0.70686683, -1.02512109, -1.28788802],\n",
       "       [-0.53587921,  0.70686683, -1.13849854, -1.28788802],\n",
       "       [ 2.30294347,  1.60925001,  1.69593766,  1.36755119],\n",
       "       [ 1.31552689,  0.03007944,  0.95898425,  1.23477923],\n",
       "       [-0.28902506, -1.32349533,  0.10865339, -0.09294037],\n",
       "       [-0.90616043,  0.70686683, -1.25187599, -1.28788802],\n",
       "       [-0.90616043,  1.60925001, -1.19518726, -1.28788802],\n",
       "       [ 0.3281103 , -0.42111215,  0.56216318,  0.30537551],\n",
       "       [-0.04217092,  2.0604416 , -1.42194216, -1.28788802],\n",
       "       [-1.0295875 , -2.45147431, -0.11810151, -0.22571233],\n",
       "       [ 0.69839152,  0.25567524,  0.44878573,  0.43814747],\n",
       "       [ 0.3281103 , -0.19551636,  0.50547446,  0.30537551],\n",
       "       [ 0.08125616,  0.25567524,  0.6188519 ,  0.83646335],\n",
       "       [ 0.20468323, -2.00028272,  0.16534211, -0.22571233],\n",
       "       [ 1.93266225, -0.64670795,  1.35580532,  0.96923531]])"
      ]
     },
     "execution_count": 50,
     "metadata": {},
     "output_type": "execute_result"
    }
   ],
   "source": [
    "x_train = std.transform(x_train)\n",
    "x_train"
   ]
  },
  {
   "cell_type": "code",
   "execution_count": 51,
   "metadata": {},
   "outputs": [
    {
     "data": {
      "text/plain": [
       "array([ 1.30266168e-15,  2.47949809e-15, -9.62193288e-17,  3.84877315e-16])"
      ]
     },
     "execution_count": 51,
     "metadata": {},
     "output_type": "execute_result"
    }
   ],
   "source": [
    " std.mean_"
   ]
  },
  {
   "cell_type": "code",
   "execution_count": 52,
   "metadata": {},
   "outputs": [
    {
     "data": {
      "text/plain": [
       "array([1., 1., 1., 1.])"
      ]
     },
     "execution_count": 52,
     "metadata": {},
     "output_type": "execute_result"
    }
   ],
   "source": [
    " std.scale_"
   ]
  }
 ],
 "metadata": {
  "kernelspec": {
   "display_name": "Python 3",
   "language": "python",
   "name": "python3"
  },
  "language_info": {
   "codemirror_mode": {
    "name": "ipython",
    "version": 3
   },
   "file_extension": ".py",
   "mimetype": "text/x-python",
   "name": "python",
   "nbconvert_exporter": "python",
   "pygments_lexer": "ipython3",
   "version": "3.8.5"
  }
 },
 "nbformat": 4,
 "nbformat_minor": 4
}
