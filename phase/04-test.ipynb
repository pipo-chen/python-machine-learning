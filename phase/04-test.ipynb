{
 "cells": [
  {
   "cell_type": "code",
   "execution_count": 1,
   "metadata": {},
   "outputs": [],
   "source": [
    "import numpy as np\n",
    "import matplotlib\n",
    "import matplotlib.pyplot as plt\n",
    "from sklearn import datasets"
   ]
  },
  {
   "cell_type": "code",
   "execution_count": 2,
   "metadata": {},
   "outputs": [],
   "source": [
    "digits = datasets.load_digits()"
   ]
  },
  {
   "cell_type": "code",
   "execution_count": 3,
   "metadata": {},
   "outputs": [
    {
     "data": {
      "text/plain": [
       "dict_keys(['data', 'target', 'frame', 'feature_names', 'target_names', 'images', 'DESCR'])"
      ]
     },
     "execution_count": 3,
     "metadata": {},
     "output_type": "execute_result"
    }
   ],
   "source": [
    "digits.keys()"
   ]
  },
  {
   "cell_type": "code",
   "execution_count": 4,
   "metadata": {},
   "outputs": [
    {
     "name": "stdout",
     "output_type": "stream",
     "text": [
      ".. _digits_dataset:\n",
      "\n",
      "Optical recognition of handwritten digits dataset\n",
      "--------------------------------------------------\n",
      "\n",
      "**Data Set Characteristics:**\n",
      "\n",
      "    :Number of Instances: 5620\n",
      "    :Number of Attributes: 64\n",
      "    :Attribute Information: 8x8 image of integer pixels in the range 0..16.\n",
      "    :Missing Attribute Values: None\n",
      "    :Creator: E. Alpaydin (alpaydin '@' boun.edu.tr)\n",
      "    :Date: July; 1998\n",
      "\n",
      "This is a copy of the test set of the UCI ML hand-written digits datasets\n",
      "https://archive.ics.uci.edu/ml/datasets/Optical+Recognition+of+Handwritten+Digits\n",
      "\n",
      "The data set contains images of hand-written digits: 10 classes where\n",
      "each class refers to a digit.\n",
      "\n",
      "Preprocessing programs made available by NIST were used to extract\n",
      "normalized bitmaps of handwritten digits from a preprinted form. From a\n",
      "total of 43 people, 30 contributed to the training set and different 13\n",
      "to the test set. 32x32 bitmaps are divided into nonoverlapping blocks of\n",
      "4x4 and the number of on pixels are counted in each block. This generates\n",
      "an input matrix of 8x8 where each element is an integer in the range\n",
      "0..16. This reduces dimensionality and gives invariance to small\n",
      "distortions.\n",
      "\n",
      "For info on NIST preprocessing routines, see M. D. Garris, J. L. Blue, G.\n",
      "T. Candela, D. L. Dimmick, J. Geist, P. J. Grother, S. A. Janet, and C.\n",
      "L. Wilson, NIST Form-Based Handprint Recognition System, NISTIR 5469,\n",
      "1994.\n",
      "\n",
      ".. topic:: References\n",
      "\n",
      "  - C. Kaynak (1995) Methods of Combining Multiple Classifiers and Their\n",
      "    Applications to Handwritten Digit Recognition, MSc Thesis, Institute of\n",
      "    Graduate Studies in Science and Engineering, Bogazici University.\n",
      "  - E. Alpaydin, C. Kaynak (1998) Cascading Classifiers, Kybernetika.\n",
      "  - Ken Tang and Ponnuthurai N. Suganthan and Xi Yao and A. Kai Qin.\n",
      "    Linear dimensionalityreduction using relevance weighted LDA. School of\n",
      "    Electrical and Electronic Engineering Nanyang Technological University.\n",
      "    2005.\n",
      "  - Claudio Gentile. A New Approximate Maximal Margin Classification\n",
      "    Algorithm. NIPS. 2000.\n"
     ]
    }
   ],
   "source": [
    "print(digits.DESCR)"
   ]
  },
  {
   "cell_type": "code",
   "execution_count": 5,
   "metadata": {},
   "outputs": [],
   "source": [
    "x = digits.data"
   ]
  },
  {
   "cell_type": "code",
   "execution_count": 6,
   "metadata": {},
   "outputs": [
    {
     "data": {
      "text/plain": [
       "(1797, 64)"
      ]
     },
     "execution_count": 6,
     "metadata": {},
     "output_type": "execute_result"
    }
   ],
   "source": [
    "x.shape"
   ]
  },
  {
   "cell_type": "code",
   "execution_count": 7,
   "metadata": {},
   "outputs": [],
   "source": [
    "y = digits.target"
   ]
  },
  {
   "cell_type": "code",
   "execution_count": 8,
   "metadata": {},
   "outputs": [
    {
     "data": {
      "text/plain": [
       "(1797,)"
      ]
     },
     "execution_count": 8,
     "metadata": {},
     "output_type": "execute_result"
    }
   ],
   "source": [
    "y.shape"
   ]
  },
  {
   "cell_type": "code",
   "execution_count": 9,
   "metadata": {},
   "outputs": [
    {
     "data": {
      "text/plain": [
       "array([0, 1, 2, 3, 4, 5, 6, 7, 8, 9])"
      ]
     },
     "execution_count": 9,
     "metadata": {},
     "output_type": "execute_result"
    }
   ],
   "source": [
    "digits.target_names"
   ]
  },
  {
   "cell_type": "code",
   "execution_count": 10,
   "metadata": {},
   "outputs": [
    {
     "data": {
      "text/plain": [
       "array([0, 1, 2, ..., 8, 9, 8])"
      ]
     },
     "execution_count": 10,
     "metadata": {},
     "output_type": "execute_result"
    }
   ],
   "source": [
    "y"
   ]
  },
  {
   "cell_type": "code",
   "execution_count": 11,
   "metadata": {},
   "outputs": [
    {
     "data": {
      "text/plain": [
       "array([[ 0.,  0.,  5., ...,  0.,  0.,  0.],\n",
       "       [ 0.,  0.,  0., ..., 10.,  0.,  0.],\n",
       "       [ 0.,  0.,  0., ..., 16.,  9.,  0.],\n",
       "       ...,\n",
       "       [ 0.,  0.,  1., ...,  6.,  0.,  0.],\n",
       "       [ 0.,  0.,  2., ..., 12.,  0.,  0.],\n",
       "       [ 0.,  0., 10., ..., 12.,  1.,  0.]])"
      ]
     },
     "execution_count": 11,
     "metadata": {},
     "output_type": "execute_result"
    }
   ],
   "source": [
    "x"
   ]
  },
  {
   "cell_type": "code",
   "execution_count": 12,
   "metadata": {},
   "outputs": [
    {
     "data": {
      "text/plain": [
       "(64,)"
      ]
     },
     "execution_count": 12,
     "metadata": {},
     "output_type": "execute_result"
    }
   ],
   "source": [
    "some_digit = x[55]\n",
    "some_digit.shape #每张图片都有 8*8 个特征属性"
   ]
  },
  {
   "cell_type": "code",
   "execution_count": 13,
   "metadata": {},
   "outputs": [
    {
     "data": {
      "image/png": "[encoded data removed]",
      "text/plain": [
       "<Figure size 432x288 with 1 Axes>"
      ]
     },
     "metadata": {
      "needs_background": "light"
     },
     "output_type": "display_data"
    }
   ],
   "source": [
    "some_digit_image = some_digit.reshape(8, 8)\n",
    "plt.imshow(some_digit_image, cmap = matplotlib.cm.binary)\n",
    "plt.show()"
   ]
  },
  {
   "cell_type": "code",
   "execution_count": 14,
   "metadata": {},
   "outputs": [
    {
     "data": {
      "text/plain": [
       "0"
      ]
     },
     "execution_count": 14,
     "metadata": {},
     "output_type": "execute_result"
    }
   ],
   "source": [
    "y[55]"
   ]
  },
  {
   "cell_type": "markdown",
   "metadata": {},
   "source": [
    "## 使用 kNN 进行分类"
   ]
  },
  {
   "cell_type": "code",
   "execution_count": 15,
   "metadata": {},
   "outputs": [],
   "source": [
    "from  playML.model_selection import train_test_split"
   ]
  },
  {
   "cell_type": "code",
   "execution_count": 16,
   "metadata": {},
   "outputs": [],
   "source": [
    "x_train, x_test, y_train, y_test = train_test_split(x, y, test_size = 0.2)"
   ]
  },
  {
   "cell_type": "code",
   "execution_count": 17,
   "metadata": {},
   "outputs": [],
   "source": [
    "from playML.kNN import KNNClassifier"
   ]
  },
  {
   "cell_type": "code",
   "execution_count": 18,
   "metadata": {},
   "outputs": [],
   "source": [
    "my_knn_clf = KNNClassifier(k = 3)"
   ]
  },
  {
   "cell_type": "code",
   "execution_count": 19,
   "metadata": {},
   "outputs": [
    {
     "data": {
      "text/plain": [
       "<playML.kNN.KNNClassifier at 0x7f9577221580>"
      ]
     },
     "execution_count": 19,
     "metadata": {},
     "output_type": "execute_result"
    }
   ],
   "source": [
    "my_knn_clf.fit(x_train, y_train)"
   ]
  },
  {
   "cell_type": "code",
   "execution_count": 20,
   "metadata": {},
   "outputs": [],
   "source": [
    "y_predict = my_knn_clf.predict(x_test)"
   ]
  },
  {
   "cell_type": "code",
   "execution_count": 21,
   "metadata": {},
   "outputs": [
    {
     "data": {
      "text/plain": [
       "array([2, 6, 0, 9, 3, 6, 4, 0, 2, 0, 0, 8, 4, 4, 1, 0, 8, 6, 6, 3, 0, 6,\n",
       "       4, 8, 1, 0, 3, 5, 9, 5, 2, 5, 9, 4, 6, 7, 7, 1, 7, 0, 7, 5, 5, 5,\n",
       "       5, 6, 6, 3, 7, 8, 1, 3, 5, 1, 3, 7, 6, 8, 8, 4, 0, 8, 2, 3, 9, 0,\n",
       "       4, 0, 7, 4, 3, 6, 3, 1, 0, 6, 4, 7, 7, 7, 5, 3, 5, 4, 8, 3, 8, 7,\n",
       "       1, 0, 4, 8, 5, 4, 4, 5, 2, 5, 2, 0, 4, 3, 5, 9, 0, 6, 8, 0, 5, 1,\n",
       "       3, 7, 4, 2, 9, 1, 0, 5, 0, 7, 9, 4, 4, 2, 9, 2, 1, 1, 6, 2, 9, 6,\n",
       "       4, 8, 7, 3, 4, 1, 3, 5, 6, 1, 4, 8, 2, 8, 0, 4, 3, 0, 0, 8, 4, 5,\n",
       "       5, 2, 6, 1, 8, 7, 4, 9, 8, 2, 3, 7, 5, 4, 7, 0, 6, 1, 3, 8, 3, 9,\n",
       "       1, 4, 3, 0, 8, 7, 9, 1, 2, 3, 9, 9, 8, 9, 4, 9, 3, 7, 3, 7, 9, 5,\n",
       "       3, 0, 2, 8, 8, 8, 7, 3, 0, 5, 1, 3, 7, 1, 4, 9, 1, 9, 1, 3, 0, 2,\n",
       "       7, 5, 9, 5, 1, 1, 6, 7, 5, 4, 7, 5, 8, 3, 8, 7, 3, 5, 0, 2, 7, 4,\n",
       "       9, 6, 0, 4, 9, 4, 4, 6, 0, 5, 9, 1, 1, 3, 6, 6, 8, 4, 4, 3, 3, 8,\n",
       "       5, 6, 5, 5, 5, 9, 9, 5, 6, 6, 2, 2, 0, 3, 5, 6, 1, 9, 4, 1, 3, 9,\n",
       "       5, 1, 2, 4, 6, 1, 6, 0, 0, 7, 5, 2, 9, 9, 5, 4, 1, 3, 8, 7, 2, 1,\n",
       "       4, 6, 4, 4, 5, 7, 7, 9, 3, 6, 3, 5, 7, 3, 9, 3, 1, 7, 5, 4, 7, 3,\n",
       "       9, 5, 1, 5, 4, 6, 5, 5, 6, 2, 8, 3, 3, 1, 1, 1, 7, 2, 2, 6, 6, 0,\n",
       "       4, 5, 3, 9, 2, 7, 2])"
      ]
     },
     "execution_count": 21,
     "metadata": {},
     "output_type": "execute_result"
    }
   ],
   "source": [
    "y_predict"
   ]
  },
  {
   "cell_type": "code",
   "execution_count": 22,
   "metadata": {},
   "outputs": [
    {
     "data": {
      "text/plain": [
       "array([2, 6, 0, 9, 3, 6, 4, 0, 2, 0, 0, 8, 4, 4, 1, 0, 8, 6, 6, 3, 0, 6,\n",
       "       4, 8, 1, 0, 3, 5, 9, 5, 2, 5, 9, 4, 6, 7, 7, 1, 7, 0, 7, 5, 5, 5,\n",
       "       5, 6, 6, 3, 7, 8, 1, 3, 5, 1, 3, 7, 6, 8, 8, 4, 0, 8, 2, 3, 9, 0,\n",
       "       4, 0, 7, 4, 3, 6, 3, 1, 0, 6, 4, 7, 7, 7, 5, 3, 5, 4, 8, 3, 8, 7,\n",
       "       1, 0, 4, 8, 5, 4, 4, 5, 2, 5, 2, 0, 4, 3, 5, 9, 0, 6, 8, 0, 5, 1,\n",
       "       3, 7, 4, 2, 9, 1, 0, 5, 0, 7, 9, 4, 4, 2, 9, 2, 1, 1, 6, 2, 9, 6,\n",
       "       4, 6, 7, 3, 4, 1, 3, 5, 6, 9, 4, 8, 2, 8, 0, 4, 3, 0, 0, 8, 4, 5,\n",
       "       5, 2, 6, 1, 8, 7, 4, 9, 8, 2, 3, 7, 5, 4, 7, 0, 6, 1, 3, 8, 3, 9,\n",
       "       1, 4, 3, 0, 8, 7, 9, 1, 2, 3, 9, 9, 8, 9, 4, 9, 2, 7, 3, 7, 9, 5,\n",
       "       3, 0, 2, 8, 8, 8, 7, 3, 0, 5, 1, 3, 7, 1, 4, 9, 1, 9, 1, 3, 0, 2,\n",
       "       7, 5, 9, 5, 1, 1, 6, 7, 5, 4, 7, 5, 8, 3, 8, 7, 3, 5, 0, 2, 7, 4,\n",
       "       9, 6, 0, 4, 9, 4, 4, 6, 0, 5, 9, 1, 1, 3, 6, 6, 8, 4, 4, 3, 3, 8,\n",
       "       5, 6, 5, 5, 5, 9, 9, 5, 6, 6, 2, 2, 0, 3, 5, 6, 1, 9, 4, 1, 3, 9,\n",
       "       5, 1, 2, 4, 6, 1, 6, 0, 0, 7, 5, 2, 9, 9, 5, 4, 1, 3, 8, 7, 2, 1,\n",
       "       4, 6, 4, 4, 5, 7, 7, 9, 3, 6, 3, 5, 7, 3, 9, 9, 1, 7, 5, 4, 7, 3,\n",
       "       9, 5, 1, 5, 4, 6, 5, 5, 6, 2, 8, 3, 3, 1, 1, 1, 7, 2, 2, 6, 6, 0,\n",
       "       4, 5, 3, 9, 2, 7, 2])"
      ]
     },
     "execution_count": 22,
     "metadata": {},
     "output_type": "execute_result"
    }
   ],
   "source": [
    "y_test"
   ]
  },
  {
   "cell_type": "code",
   "execution_count": 23,
   "metadata": {},
   "outputs": [
    {
     "data": {
      "text/plain": [
       "355"
      ]
     },
     "execution_count": 23,
     "metadata": {},
     "output_type": "execute_result"
    }
   ],
   "source": [
    "sum(y_predict == y_test)"
   ]
  },
  {
   "cell_type": "code",
   "execution_count": 24,
   "metadata": {},
   "outputs": [
    {
     "data": {
      "text/plain": [
       "0.9888579387186629"
      ]
     },
     "execution_count": 24,
     "metadata": {},
     "output_type": "execute_result"
    }
   ],
   "source": [
    "sum(y_predict == y_test) / len(y_test)"
   ]
  },
  {
   "cell_type": "code",
   "execution_count": 25,
   "metadata": {},
   "outputs": [],
   "source": [
    "from playML.metrics_test import accuracy_score"
   ]
  },
  {
   "cell_type": "code",
   "execution_count": 26,
   "metadata": {},
   "outputs": [
    {
     "data": {
      "text/plain": [
       "0.9888579387186629"
      ]
     },
     "execution_count": 26,
     "metadata": {},
     "output_type": "execute_result"
    }
   ],
   "source": [
    "accuracy_score(y_test, y_predict)"
   ]
  },
  {
   "cell_type": "code",
   "execution_count": 27,
   "metadata": {},
   "outputs": [
    {
     "data": {
      "text/plain": [
       "0.9888579387186629"
      ]
     },
     "execution_count": 27,
     "metadata": {},
     "output_type": "execute_result"
    }
   ],
   "source": [
    "my_knn_clf.score(x_test, y_test)"
   ]
  },
  {
   "cell_type": "markdown",
   "metadata": {},
   "source": [
    "## 使用 scikit-learn 中的 accuracy_score"
   ]
  },
  {
   "cell_type": "code",
   "execution_count": 28,
   "metadata": {},
   "outputs": [],
   "source": [
    "from sklearn.model_selection import train_test_split\n",
    "\n",
    "x_train, x_test, y_train, y_test = train_test_split(x, y, test_size = 0.2)"
   ]
  },
  {
   "cell_type": "code",
   "execution_count": 30,
   "metadata": {},
   "outputs": [],
   "source": [
    "from sklearn.neighbors import KNeighborsClassifier\n",
    "knn_clf = KNeighborsClassifier(n_neighbors = 3)"
   ]
  },
  {
   "cell_type": "code",
   "execution_count": 31,
   "metadata": {},
   "outputs": [
    {
     "data": {
      "text/plain": [
       "KNeighborsClassifier(n_neighbors=3)"
      ]
     },
     "execution_count": 31,
     "metadata": {},
     "output_type": "execute_result"
    }
   ],
   "source": [
    "knn_clf.fit(x_train, y_train)"
   ]
  },
  {
   "cell_type": "code",
   "execution_count": 32,
   "metadata": {},
   "outputs": [],
   "source": [
    "y_predict = knn_clf.predict(x_test)"
   ]
  },
  {
   "cell_type": "code",
   "execution_count": 33,
   "metadata": {},
   "outputs": [],
   "source": [
    "from sklearn.metrics import accuracy_score"
   ]
  },
  {
   "cell_type": "code",
   "execution_count": 34,
   "metadata": {},
   "outputs": [
    {
     "data": {
      "text/plain": [
       "0.9861111111111112"
      ]
     },
     "execution_count": 34,
     "metadata": {},
     "output_type": "execute_result"
    }
   ],
   "source": [
    "accuracy_score(y_test, y_predict)"
   ]
  },
  {
   "cell_type": "code",
   "execution_count": 35,
   "metadata": {},
   "outputs": [
    {
     "data": {
      "text/plain": [
       "0.9861111111111112"
      ]
     },
     "execution_count": 35,
     "metadata": {},
     "output_type": "execute_result"
    }
   ],
   "source": [
    "knn_clf.score(x_test, y_test)"
   ]
  },
  {
   "cell_type": "markdown",
   "metadata": {},
   "source": [
    "## 寻找最好的 k"
   ]
  },
  {
   "cell_type": "code",
   "execution_count": 48,
   "metadata": {},
   "outputs": [
    {
     "name": "stdout",
     "output_type": "stream",
     "text": [
      "best_k =  3\n",
      "best_score =  0.9861111111111112\n"
     ]
    }
   ],
   "source": [
    "best_score = 0.0\n",
    "best_k = -1\n",
    "\n",
    "for k in range(1, 11):\n",
    "    knn_clf = KNeighborsClassifier(n_neighbors = k)\n",
    "    knn_clf.fit(x_train, y_train)\n",
    "    score = knn_clf.score(x_test, y_test)\n",
    "    if score > best_score:\n",
    "        best_k = k\n",
    "        best_score = score\n",
    "print(\"best_k = \", best_k)\n",
    "print(\"best_score = \", best_score)"
   ]
  },
  {
   "cell_type": "markdown",
   "metadata": {},
   "source": [
    "## 考虑距离？不考虑距离？"
   ]
  },
  {
   "cell_type": "code",
   "execution_count": 51,
   "metadata": {},
   "outputs": [
    {
     "name": "stdout",
     "output_type": "stream",
     "text": [
      "best_k =  3\n",
      "best_score =  0.9861111111111112\n",
      "best_method =  uniform\n"
     ]
    }
   ],
   "source": [
    "best_method = \"\"\n",
    "best_score = 0.0\n",
    "best_k = -1\n",
    "\n",
    "for method in [\"uniform\", \"distance\"]:\n",
    "    for k in range(1, 11):\n",
    "        knn_clf = KNeighborsClassifier(n_neighbors = k, weights = method)\n",
    "        knn_clf.fit(x_train, y_train)\n",
    "        score = knn_clf.score(x_test, y_test)\n",
    "        if score > best_score:\n",
    "            best_k = k\n",
    "            best_score = score\n",
    "            best_method = method\n",
    "print(\"best_k = \", best_k)\n",
    "print(\"best_score = \", best_score)\n",
    "print(\"best_method = \", best_method)"
   ]
  },
  {
   "cell_type": "markdown",
   "metadata": {},
   "source": [
    "## 探索明可夫斯基距离相应的 p"
   ]
  },
  {
   "cell_type": "code",
   "execution_count": 56,
   "metadata": {},
   "outputs": [
    {
     "name": "stdout",
     "output_type": "stream",
     "text": [
      "best_k =  1\n",
      "best_score =  0.9916666666666667\n",
      "best_p =  5\n",
      "CPU times: user 13.8 s, sys: 64.2 ms, total: 13.8 s\n",
      "Wall time: 13.9 s\n"
     ]
    }
   ],
   "source": [
    "%%time\n",
    "best_score = 0.0\n",
    "best_k = -1\n",
    "best_p = -1\n",
    "\n",
    "for k in range(1, 11):\n",
    "    for p in range(1, 6):\n",
    "        knn_clf = KNeighborsClassifier(n_neighbors = k, weights=\"distance\", p=p )\n",
    "        knn_clf.fit(x_train, y_train)\n",
    "        score = knn_clf.score(x_test, y_test)\n",
    "        if score > best_score:\n",
    "            best_k = k\n",
    "            best_score = score\n",
    "            best_p = p\n",
    "print(\"best_k = \", best_k)\n",
    "print(\"best_score = \", best_score)\n",
    "print(\"best_p = \",p)"
   ]
  },
  {
   "cell_type": "markdown",
   "metadata": {},
   "source": [
    "## Grid Search"
   ]
  },
  {
   "cell_type": "code",
   "execution_count": 57,
   "metadata": {},
   "outputs": [],
   "source": [
    "#每一组 对应一组搜索方式 对应所有可能的组合参数\n",
    "param_grid = [\n",
    "    {\n",
    "        'weights' : ['uniform'],\n",
    "        'n_neighbors' : [i for i in range(1,11)]\n",
    "    },\n",
    "    {\n",
    "        'weights' : ['distance'],\n",
    "        'n_neighbors' : [i for i in range(1,11)],\n",
    "        'p' : [i for i in range(1, 6)]\n",
    "    }\n",
    "]"
   ]
  },
  {
   "cell_type": "code",
   "execution_count": 58,
   "metadata": {},
   "outputs": [],
   "source": [
    "knn_clf = KNeighborsClassifier()"
   ]
  },
  {
   "cell_type": "code",
   "execution_count": 59,
   "metadata": {},
   "outputs": [],
   "source": [
    "from sklearn.model_selection import GridSearchCV"
   ]
  },
  {
   "cell_type": "code",
   "execution_count": 60,
   "metadata": {},
   "outputs": [],
   "source": [
    "grid_search = GridSearchCV(knn_clf, param_grid)"
   ]
  },
  {
   "cell_type": "code",
   "execution_count": 66,
   "metadata": {},
   "outputs": [
    {
     "name": "stdout",
     "output_type": "stream",
     "text": [
      "CPU times: user 46.7 s, sys: 292 ms, total: 46.9 s\n",
      "Wall time: 47.4 s\n"
     ]
    },
    {
     "data": {
      "text/plain": [
       "GridSearchCV(estimator=KNeighborsClassifier(),\n",
       "             param_grid=[{'n_neighbors': [1, 2, 3, 4, 5, 6, 7, 8, 9, 10],\n",
       "                          'weights': ['uniform']},\n",
       "                         {'n_neighbors': [1, 2, 3, 4, 5, 6, 7, 8, 9, 10],\n",
       "                          'p': [1, 2, 3, 4, 5], 'weights': ['distance']}])"
      ]
     },
     "execution_count": 66,
     "metadata": {},
     "output_type": "execute_result"
    }
   ],
   "source": [
    "%%time\n",
    "grid_search.fit(x_train, y_train)"
   ]
  },
  {
   "cell_type": "code",
   "execution_count": 67,
   "metadata": {},
   "outputs": [
    {
     "data": {
      "text/plain": [
       "KNeighborsClassifier(n_neighbors=3)"
      ]
     },
     "execution_count": 67,
     "metadata": {},
     "output_type": "execute_result"
    }
   ],
   "source": [
    "grid_search.best_estimator_"
   ]
  },
  {
   "cell_type": "code",
   "execution_count": 69,
   "metadata": {},
   "outputs": [
    {
     "data": {
      "text/plain": [
       "0.9881654084397986"
      ]
     },
     "execution_count": 69,
     "metadata": {},
     "output_type": "execute_result"
    }
   ],
   "source": [
    "grid_search.best_score_"
   ]
  },
  {
   "cell_type": "code",
   "execution_count": 71,
   "metadata": {},
   "outputs": [
    {
     "data": {
      "text/plain": [
       "{'n_neighbors': 3, 'weights': 'uniform'}"
      ]
     },
     "execution_count": 71,
     "metadata": {},
     "output_type": "execute_result"
    }
   ],
   "source": [
    "grid_search.best_params_"
   ]
  },
  {
   "cell_type": "code",
   "execution_count": 73,
   "metadata": {},
   "outputs": [],
   "source": [
    "knn_clf = grid_search.best_estimator_"
   ]
  },
  {
   "cell_type": "code",
   "execution_count": 75,
   "metadata": {},
   "outputs": [
    {
     "data": {
      "text/plain": [
       "0.9861111111111112"
      ]
     },
     "execution_count": 75,
     "metadata": {},
     "output_type": "execute_result"
    }
   ],
   "source": [
    "knn_clf.score(x_test, y_test)"
   ]
  },
  {
   "cell_type": "code",
   "execution_count": 76,
   "metadata": {},
   "outputs": [],
   "source": [
    "GridSearchCV?"
   ]
  },
  {
   "cell_type": "code",
   "execution_count": 79,
   "metadata": {},
   "outputs": [
    {
     "name": "stdout",
     "output_type": "stream",
     "text": [
      "Fitting 5 folds for each of 60 candidates, totalling 300 fits\n"
     ]
    },
    {
     "name": "stderr",
     "output_type": "stream",
     "text": [
      "[Parallel(n_jobs=-1)]: Using backend LokyBackend with 8 concurrent workers.\n",
      "[Parallel(n_jobs=-1)]: Done   2 tasks      | elapsed:    2.3s\n",
      "[Parallel(n_jobs=-1)]: Done   9 tasks      | elapsed:    2.4s\n",
      "[Parallel(n_jobs=-1)]: Done  16 tasks      | elapsed:    2.4s\n",
      "[Parallel(n_jobs=-1)]: Done  25 tasks      | elapsed:    2.5s\n",
      "[Parallel(n_jobs=-1)]: Done  34 tasks      | elapsed:    2.6s\n",
      "[Parallel(n_jobs=-1)]: Batch computation too fast (0.1908s.) Setting batch_size=2.\n",
      "[Parallel(n_jobs=-1)]: Done  45 tasks      | elapsed:    2.7s\n",
      "[Parallel(n_jobs=-1)]: Done  56 tasks      | elapsed:    2.8s\n",
      "[Parallel(n_jobs=-1)]: Batch computation too fast (0.1681s.) Setting batch_size=4.\n",
      "[Parallel(n_jobs=-1)]: Done  82 tasks      | elapsed:    3.5s\n",
      "[Parallel(n_jobs=-1)]: Done 128 tasks      | elapsed:    5.4s\n",
      "[Parallel(n_jobs=-1)]: Batch computation too slow (2.1022s.) Setting batch_size=1.\n",
      "[Parallel(n_jobs=-1)]: Done 188 tasks      | elapsed:    7.3s\n",
      "[Parallel(n_jobs=-1)]: Done 239 tasks      | elapsed:    9.1s\n",
      "[Parallel(n_jobs=-1)]: Done 256 tasks      | elapsed:   10.2s\n",
      "[Parallel(n_jobs=-1)]: Done 282 tasks      | elapsed:   10.7s\n"
     ]
    },
    {
     "name": "stdout",
     "output_type": "stream",
     "text": [
      "CPU times: user 301 ms, sys: 130 ms, total: 431 ms\n",
      "Wall time: 11.8 s\n"
     ]
    },
    {
     "name": "stderr",
     "output_type": "stream",
     "text": [
      "[Parallel(n_jobs=-1)]: Done 300 out of 300 | elapsed:   11.8s finished\n"
     ]
    },
    {
     "data": {
      "text/plain": [
       "GridSearchCV(estimator=KNeighborsClassifier(n_neighbors=3), n_jobs=-1,\n",
       "             param_grid=[{'n_neighbors': [1, 2, 3, 4, 5, 6, 7, 8, 9, 10],\n",
       "                          'weights': ['uniform']},\n",
       "                         {'n_neighbors': [1, 2, 3, 4, 5, 6, 7, 8, 9, 10],\n",
       "                          'p': [1, 2, 3, 4, 5], 'weights': ['distance']}],\n",
       "             verbose=10)"
      ]
     },
     "execution_count": 79,
     "metadata": {},
     "output_type": "execute_result"
    }
   ],
   "source": [
    "%%time\n",
    "grid_search = GridSearchCV(knn_clf, param_grid, n_jobs = -1, verbose=10)\n",
    "grid_search.fit(x_train, y_train)"
   ]
  },
  {
   "cell_type": "markdown",
   "metadata": {},
   "source": [
    "## 数据归一化处理"
   ]
  },
  {
   "cell_type": "code",
   "execution_count": 148,
   "metadata": {},
   "outputs": [],
   "source": [
    "import numpy as np\n",
    "import matplotlib.pyplot as plt"
   ]
  },
  {
   "cell_type": "markdown",
   "metadata": {},
   "source": [
    "### 最值归一化 Normalization"
   ]
  },
  {
   "cell_type": "code",
   "execution_count": 149,
   "metadata": {},
   "outputs": [],
   "source": [
    "x = np.random.randint(0, 100, size = 100)"
   ]
  },
  {
   "cell_type": "code",
   "execution_count": 150,
   "metadata": {},
   "outputs": [
    {
     "data": {
      "text/plain": [
       "array([32, 68, 74, 67, 85, 63, 16, 16, 12, 41, 82, 68, 89, 38, 76,  1, 94,\n",
       "       67, 52, 55, 69, 17, 84, 67, 44, 35,  5, 57, 21, 92, 32, 19, 95, 38,\n",
       "        8, 73,  4, 36, 33, 52, 97, 53, 13,  4, 29, 42, 94, 65, 38, 32, 99,\n",
       "       25, 89, 58, 41, 49, 45, 55, 94, 46, 15, 12, 78, 62,  1, 25, 34, 51,\n",
       "       31, 96, 20, 52, 15, 45, 61,  1, 42, 38, 65,  6, 97, 41, 81, 55, 94,\n",
       "       51, 53,  8, 32, 44,  8, 17, 27, 91, 50,  9, 68,  9, 67, 57])"
      ]
     },
     "execution_count": 150,
     "metadata": {},
     "output_type": "execute_result"
    }
   ],
   "source": [
    "x"
   ]
  },
  {
   "cell_type": "code",
   "execution_count": 151,
   "metadata": {},
   "outputs": [
    {
     "data": {
      "text/plain": [
       "array([0.31632653, 0.68367347, 0.74489796, 0.67346939, 0.85714286,\n",
       "       0.63265306, 0.15306122, 0.15306122, 0.1122449 , 0.40816327,\n",
       "       0.82653061, 0.68367347, 0.89795918, 0.37755102, 0.76530612,\n",
       "       0.        , 0.94897959, 0.67346939, 0.52040816, 0.55102041,\n",
       "       0.69387755, 0.16326531, 0.84693878, 0.67346939, 0.43877551,\n",
       "       0.34693878, 0.04081633, 0.57142857, 0.20408163, 0.92857143,\n",
       "       0.31632653, 0.18367347, 0.95918367, 0.37755102, 0.07142857,\n",
       "       0.73469388, 0.03061224, 0.35714286, 0.32653061, 0.52040816,\n",
       "       0.97959184, 0.53061224, 0.12244898, 0.03061224, 0.28571429,\n",
       "       0.41836735, 0.94897959, 0.65306122, 0.37755102, 0.31632653,\n",
       "       1.        , 0.24489796, 0.89795918, 0.58163265, 0.40816327,\n",
       "       0.48979592, 0.44897959, 0.55102041, 0.94897959, 0.45918367,\n",
       "       0.14285714, 0.1122449 , 0.78571429, 0.62244898, 0.        ,\n",
       "       0.24489796, 0.33673469, 0.51020408, 0.30612245, 0.96938776,\n",
       "       0.19387755, 0.52040816, 0.14285714, 0.44897959, 0.6122449 ,\n",
       "       0.        , 0.41836735, 0.37755102, 0.65306122, 0.05102041,\n",
       "       0.97959184, 0.40816327, 0.81632653, 0.55102041, 0.94897959,\n",
       "       0.51020408, 0.53061224, 0.07142857, 0.31632653, 0.43877551,\n",
       "       0.07142857, 0.16326531, 0.26530612, 0.91836735, 0.5       ,\n",
       "       0.08163265, 0.68367347, 0.08163265, 0.67346939, 0.57142857])"
      ]
     },
     "execution_count": 151,
     "metadata": {},
     "output_type": "execute_result"
    }
   ],
   "source": [
    "(x - np.min(x)) / (np.max(x) - np.min(x))"
   ]
  },
  {
   "cell_type": "code",
   "execution_count": 152,
   "metadata": {},
   "outputs": [],
   "source": [
    "X = np.random.randint(0, 100 , (50, 2))\n",
    "X[0][0] = 500"
   ]
  },
  {
   "cell_type": "code",
   "execution_count": 153,
   "metadata": {},
   "outputs": [],
   "source": [
    "X = np.array(X, dtype = float)"
   ]
  },
  {
   "cell_type": "code",
   "execution_count": 154,
   "metadata": {},
   "outputs": [],
   "source": [
    "X[:,0] = (X[:,0] - np.min(X[:,0])) / (np.max(X[:,0] - np.min(X[:,0])))"
   ]
  },
  {
   "cell_type": "code",
   "execution_count": 155,
   "metadata": {},
   "outputs": [
    {
     "data": {
      "text/plain": [
       "array([1.        , 0.16465863, 0.08232932, 0.12449799, 0.16666667,\n",
       "       0.0502008 , 0.10040161, 0.18674699, 0.13052209, 0.06827309,\n",
       "       0.13253012, 0.03012048, 0.05823293, 0.07429719, 0.        ,\n",
       "       0.08232932, 0.1184739 , 0.15662651, 0.14658635, 0.14859438,\n",
       "       0.10441767, 0.06425703, 0.07831325, 0.1626506 , 0.14457831,\n",
       "       0.13052209, 0.15060241, 0.16064257, 0.18674699, 0.13253012,\n",
       "       0.03212851, 0.05421687, 0.062249  , 0.17068273, 0.18875502,\n",
       "       0.05823293, 0.00803213, 0.01204819, 0.08433735, 0.1124498 ,\n",
       "       0.18473896, 0.03614458, 0.03614458, 0.15060241, 0.03614458,\n",
       "       0.18674699, 0.15261044, 0.1124498 , 0.15461847, 0.0562249 ])"
      ]
     },
     "execution_count": 155,
     "metadata": {},
     "output_type": "execute_result"
    }
   ],
   "source": [
    "X[:,0]"
   ]
  },
  {
   "cell_type": "code",
   "execution_count": 156,
   "metadata": {},
   "outputs": [],
   "source": [
    "X[:,1] = (X[:,1] - np.min(X[:,1])) / (np.max(X[:,1] - np.min(X[:,1])))"
   ]
  },
  {
   "cell_type": "code",
   "execution_count": 157,
   "metadata": {},
   "outputs": [
    {
     "data": {
      "text/plain": [
       "array([0.60416667, 0.875     , 0.97916667, 0.15625   , 0.55208333,\n",
       "       0.22916667, 0.98958333, 0.19791667, 0.27083333, 0.19791667,\n",
       "       0.07291667, 0.58333333, 0.23958333, 0.51041667, 0.75      ,\n",
       "       0.67708333, 0.45833333, 0.35416667, 0.0625    , 0.33333333,\n",
       "       0.16666667, 0.20833333, 0.57291667, 0.57291667, 0.44791667,\n",
       "       0.69791667, 0.58333333, 0.34375   , 0.5625    , 0.5       ,\n",
       "       0.22916667, 0.        , 0.54166667, 0.85416667, 0.04166667,\n",
       "       0.64583333, 0.08333333, 0.0625    , 0.91666667, 0.875     ,\n",
       "       0.48958333, 1.        , 0.23958333, 0.89583333, 0.02083333,\n",
       "       0.88541667, 0.69791667, 0.69791667, 0.14583333, 0.89583333])"
      ]
     },
     "execution_count": 157,
     "metadata": {},
     "output_type": "execute_result"
    }
   ],
   "source": [
    "X[:,1]"
   ]
  },
  {
   "cell_type": "code",
   "execution_count": 158,
   "metadata": {},
   "outputs": [
    {
     "data": {
      "image/png": "[encoded data removed]",
      "text/plain": [
       "<Figure size 432x288 with 1 Axes>"
      ]
     },
     "metadata": {
      "needs_background": "light"
     },
     "output_type": "display_data"
    }
   ],
   "source": [
    "plt.scatter(X[:,0],X[:,1])\n",
    "plt.show()"
   ]
  },
  {
   "cell_type": "code",
   "execution_count": 159,
   "metadata": {},
   "outputs": [
    {
     "data": {
      "text/plain": [
       "0.12453815261044177"
      ]
     },
     "execution_count": 159,
     "metadata": {},
     "output_type": "execute_result"
    }
   ],
   "source": [
    "np.mean(X[:,0])"
   ]
  },
  {
   "cell_type": "code",
   "execution_count": 160,
   "metadata": {},
   "outputs": [
    {
     "data": {
      "text/plain": [
       "0.13625026403440238"
      ]
     },
     "execution_count": 160,
     "metadata": {},
     "output_type": "execute_result"
    }
   ],
   "source": [
    "np.std(X[:,0])"
   ]
  },
  {
   "cell_type": "markdown",
   "metadata": {},
   "source": [
    "### 均值方差归一化 Standardization"
   ]
  },
  {
   "cell_type": "code",
   "execution_count": 161,
   "metadata": {},
   "outputs": [],
   "source": [
    "X2 = np.random.randint(0, 100, (50, 2))\n",
    "X2[0][0] = 500"
   ]
  },
  {
   "cell_type": "code",
   "execution_count": 162,
   "metadata": {},
   "outputs": [],
   "source": [
    "X2 = np.array(X2, dtype = float)"
   ]
  },
  {
   "cell_type": "code",
   "execution_count": 163,
   "metadata": {},
   "outputs": [],
   "source": [
    "X2[:,0] = (X2[:,0] - np.mean(X2[:,0])) / np.std(X2[:,0])"
   ]
  },
  {
   "cell_type": "code",
   "execution_count": 164,
   "metadata": {},
   "outputs": [],
   "source": [
    "X2[:,1] = (X2[:,1] - np.mean(X2[:,1])) / np.std(X2[:,1])"
   ]
  },
  {
   "cell_type": "code",
   "execution_count": 165,
   "metadata": {},
   "outputs": [
    {
     "data": {
      "image/png": "[encoded data removed]",
      "text/plain": [
       "<Figure size 432x288 with 1 Axes>"
      ]
     },
     "metadata": {
      "needs_background": "light"
     },
     "output_type": "display_data"
    }
   ],
   "source": [
    "plt.scatter(X2[:,0], X2[:,1])\n",
    "plt.show()"
   ]
  },
  {
   "cell_type": "code",
   "execution_count": 166,
   "metadata": {},
   "outputs": [
    {
     "data": {
      "text/plain": [
       "-9.880984919163893e-17"
      ]
     },
     "execution_count": 166,
     "metadata": {},
     "output_type": "execute_result"
    }
   ],
   "source": [
    "np.mean(X2[:,0])"
   ]
  },
  {
   "cell_type": "markdown",
   "metadata": {},
   "source": [
    "## Scikit-learn 中的 Scaler"
   ]
  },
  {
   "cell_type": "code",
   "execution_count": 168,
   "metadata": {},
   "outputs": [],
   "source": [
    "import numpy as np\n",
    "from sklearn import datasets"
   ]
  },
  {
   "cell_type": "code",
   "execution_count": 169,
   "metadata": {},
   "outputs": [],
   "source": [
    "iris = datasets.load_iris()"
   ]
  },
  {
   "cell_type": "code",
   "execution_count": 170,
   "metadata": {},
   "outputs": [],
   "source": [
    "x = iris.data\n",
    "y = iris.target"
   ]
  },
  {
   "cell_type": "code",
   "execution_count": 173,
   "metadata": {},
   "outputs": [
    {
     "data": {
      "text/plain": [
       "array([[5.1, 3.5, 1.4, 0.2],\n",
       "       [4.9, 3. , 1.4, 0.2],\n",
       "       [4.7, 3.2, 1.3, 0.2],\n",
       "       [4.6, 3.1, 1.5, 0.2],\n",
       "       [5. , 3.6, 1.4, 0.2],\n",
       "       [5.4, 3.9, 1.7, 0.4],\n",
       "       [4.6, 3.4, 1.4, 0.3],\n",
       "       [5. , 3.4, 1.5, 0.2],\n",
       "       [4.4, 2.9, 1.4, 0.2],\n",
       "       [4.9, 3.1, 1.5, 0.1]])"
      ]
     },
     "execution_count": 173,
     "metadata": {},
     "output_type": "execute_result"
    }
   ],
   "source": [
    "x[:10,:]"
   ]
  },
  {
   "cell_type": "code",
   "execution_count": 174,
   "metadata": {},
   "outputs": [],
   "source": [
    "from sklearn.model_selection import train_test_split\n",
    "x_train, x_test, y_train, y_test = train_test_split(x, y, test_size = 0.2)"
   ]
  },
  {
   "cell_type": "markdown",
   "metadata": {},
   "source": [
    "### scikit-learn 中的 StandardScaler"
   ]
  },
  {
   "cell_type": "code",
   "execution_count": 184,
   "metadata": {},
   "outputs": [],
   "source": [
    "from sklearn.preprocessing import StandardScaler"
   ]
  },
  {
   "cell_type": "code",
   "execution_count": 185,
   "metadata": {},
   "outputs": [],
   "source": [
    "standardScaler = StandardScaler()"
   ]
  },
  {
   "cell_type": "code",
   "execution_count": 186,
   "metadata": {},
   "outputs": [
    {
     "data": {
      "text/plain": [
       "StandardScaler()"
      ]
     },
     "execution_count": 186,
     "metadata": {},
     "output_type": "execute_result"
    }
   ],
   "source": [
    "standardScaler.fit(x_train)"
   ]
  },
  {
   "cell_type": "code",
   "execution_count": 187,
   "metadata": {},
   "outputs": [
    {
     "data": {
      "text/plain": [
       "array([5.83833333, 3.07666667, 3.72916667, 1.1975    ])"
      ]
     },
     "execution_count": 187,
     "metadata": {},
     "output_type": "execute_result"
    }
   ],
   "source": [
    "standardScaler.mean_"
   ]
  },
  {
   "cell_type": "code",
   "execution_count": 191,
   "metadata": {},
   "outputs": [
    {
     "data": {
      "text/plain": [
       "array([0.84991993, 0.45327205, 1.80893135, 0.79103966])"
      ]
     },
     "execution_count": 191,
     "metadata": {},
     "output_type": "execute_result"
    }
   ],
   "source": [
    "standardScaler.scale_"
   ]
  },
  {
   "cell_type": "code",
   "execution_count": 194,
   "metadata": {},
   "outputs": [],
   "source": [
    "x_train = standardScaler.transform(x_train)"
   ]
  },
  {
   "cell_type": "code",
   "execution_count": 195,
   "metadata": {},
   "outputs": [
    {
     "data": {
      "text/plain": [
       "array([[-0.28041857, -1.2722308 ,  0.09443881, -0.12325551],\n",
       "       [ 0.30787214, -0.16914051,  0.48140762,  0.25599222],\n",
       "       [ 0.54318842, -0.38975857,  1.03422019,  0.76165587],\n",
       "       [-0.51573486,  1.37518589, -1.23231137, -1.26099872],\n",
       "       [ 0.07255585, -0.16914051,  0.26028259,  0.38240813],\n",
       "       [-0.51573486,  0.71333172, -1.23231137, -1.00816689],\n",
       "       [-0.98636742,  0.2720956 , -1.39815514, -1.26099872],\n",
       "       [ 0.89616285, -0.16914051,  0.3708451 ,  0.25599222],\n",
       "       [-1.22168371, -0.16914051, -1.28759262, -1.1345828 ],\n",
       "       [-0.633393  ,  1.37518589, -1.23231137, -1.26099872],\n",
       "       [ 0.30787214, -0.38975857,  0.53668888,  0.25599222],\n",
       "       [-0.98636742, -1.71346691, -0.23724873, -0.24967142],\n",
       "       [-0.86870928,  1.59580395, -1.23231137, -1.1345828 ],\n",
       "       [-0.16276043, -1.05161274, -0.12668622, -0.24967142],\n",
       "       [-0.98636742,  0.71333172, -1.17703011, -1.00816689],\n",
       "       [-0.04510229,  2.03704006, -1.39815514, -1.26099872],\n",
       "       [-0.16276043, -0.38975857,  0.26028259,  0.12957631],\n",
       "       [-1.10402557,  0.05147755, -1.23231137, -1.26099872],\n",
       "       [-1.22168371,  0.71333172, -1.01118634, -1.26099872],\n",
       "       [-1.22168371,  0.71333172, -1.17703011, -1.26099872],\n",
       "       [-0.86870928,  0.93394977, -1.28759262, -1.1345828 ],\n",
       "       [ 0.30787214, -1.05161274,  1.03422019,  0.25599222],\n",
       "       [-1.45699999,  1.15456783, -1.50871765, -1.26099872],\n",
       "       [-1.10402557,  0.05147755, -1.23231137, -1.38741463],\n",
       "       [ 0.42553028,  0.71333172,  0.92365768,  1.39373542],\n",
       "       [-0.04510229, -0.61037662,  0.75781391,  1.52015133],\n",
       "       [ 1.01382099,  0.49271366,  1.08950145,  1.1409036 ],\n",
       "       [-0.75105114,  0.71333172, -1.28759262, -1.26099872],\n",
       "       [-0.04510229, -0.83099468,  0.75781391,  0.88807178],\n",
       "       [ 0.66084656,  0.05147755,  0.97893894,  0.76165587],\n",
       "       [-0.39807671, -1.49284885,  0.03915756, -0.12325551],\n",
       "       [-0.28041857, -0.83099468,  0.26028259,  0.12957631],\n",
       "       [-1.45699999,  0.05147755, -1.23231137, -1.26099872],\n",
       "       [ 0.77850471,  0.2720956 ,  0.75781391,  1.01448769],\n",
       "       [-1.10402557, -1.49284885, -0.23724873, -0.24967142],\n",
       "       [-0.04510229, -1.05161274,  0.14972007,  0.0031604 ],\n",
       "       [ 1.01382099,  0.49271366,  1.08950145,  1.64656724],\n",
       "       [-1.10402557,  1.15456783, -1.28759262, -1.38741463],\n",
       "       [ 0.54318842, -1.2722308 ,  0.70253265,  0.88807178],\n",
       "       [-0.98636742, -0.16914051, -1.17703011, -1.26099872],\n",
       "       [ 0.30787214, -0.16914051,  0.64725139,  0.76165587],\n",
       "       [ 1.13147913, -0.16914051,  0.97893894,  1.1409036 ],\n",
       "       [ 0.89616285, -0.38975857,  0.48140762,  0.12957631],\n",
       "       [-0.86870928,  1.37518589, -1.23231137, -1.00816689],\n",
       "       [-0.98636742, -2.37532108, -0.12668622, -0.24967142],\n",
       "       [-1.33934185,  0.2720956 , -1.34287388, -1.26099872],\n",
       "       [ 1.6021117 ,  1.15456783,  1.31062648,  1.64656724],\n",
       "       [ 0.77850471, -0.16914051,  0.97893894,  0.76165587],\n",
       "       [ 1.71976984, -0.38975857,  1.421189  ,  0.76165587],\n",
       "       [-1.10402557, -1.2722308 ,  0.42612636,  0.63523995],\n",
       "       [ 0.190214  , -0.83099468,  0.75781391,  0.50882404],\n",
       "       [ 1.13147913,  0.2720956 ,  1.20006397,  1.39373542],\n",
       "       [ 1.01382099, -0.16914051,  0.81309516,  1.39373542],\n",
       "       [-1.22168371,  0.05147755, -1.17703011, -1.26099872],\n",
       "       [ 0.66084656,  0.2720956 ,  0.86837642,  1.39373542],\n",
       "       [ 1.24913728,  0.05147755,  0.64725139,  0.38240813],\n",
       "       [ 0.54318842,  0.49271366,  1.25534522,  1.64656724],\n",
       "       [ 0.54318842, -1.71346691,  0.3708451 ,  0.12957631],\n",
       "       [ 0.07255585,  0.2720956 ,  0.59197013,  0.76165587],\n",
       "       [ 0.190214  , -0.38975857,  0.42612636,  0.38240813],\n",
       "       [-0.39807671, -1.71346691,  0.14972007,  0.12957631],\n",
       "       [ 0.66084656, -0.61037662,  1.03422019,  1.1409036 ],\n",
       "       [ 0.07255585, -0.16914051,  0.75781391,  0.76165587],\n",
       "       [-1.69231628, -0.38975857, -1.28759262, -1.26099872],\n",
       "       [-1.69231628, -0.16914051, -1.34287388, -1.26099872],\n",
       "       [ 0.54318842, -0.83099468,  0.64725139,  0.76165587],\n",
       "       [-0.16276043,  2.91951229, -1.23231137, -1.00816689],\n",
       "       [-0.86870928,  1.59580395, -1.01118634, -1.00816689],\n",
       "       [-0.39807671,  2.47827617, -1.28759262, -1.26099872],\n",
       "       [-0.39807671,  0.93394977, -1.34287388, -1.26099872],\n",
       "       [ 1.01382099,  0.05147755,  1.03422019,  1.52015133],\n",
       "       [ 0.42553028, -1.93408497,  0.42612636,  0.38240813],\n",
       "       [ 0.30787214, -0.61037662,  0.53668888,  0.0031604 ],\n",
       "       [ 1.24913728,  0.05147755,  0.92365768,  1.1409036 ],\n",
       "       [-1.33934185,  0.2720956 , -1.17703011, -1.26099872],\n",
       "       [ 0.77850471, -0.16914051,  1.14478271,  1.26731951],\n",
       "       [-0.28041857, -0.61037662,  0.64725139,  1.01448769],\n",
       "       [-1.69231628,  0.2720956 , -1.34287388, -1.26099872],\n",
       "       [ 2.4257187 ,  1.59580395,  1.47647025,  1.01448769],\n",
       "       [ 0.190214  , -0.16914051,  0.59197013,  0.76165587],\n",
       "       [ 1.24913728,  0.2720956 ,  1.08950145,  1.39373542],\n",
       "       [ 0.66084656, -0.61037662,  1.03422019,  1.26731951],\n",
       "       [-0.51573486,  1.816422  , -1.34287388, -1.00816689],\n",
       "       [ 2.19040241,  1.59580395,  1.64231403,  1.26731951],\n",
       "       [ 1.6021117 , -0.16914051,  1.14478271,  0.50882404],\n",
       "       [-0.86870928,  1.59580395, -1.17703011, -1.26099872],\n",
       "       [-0.04510229, -0.83099468,  0.09443881,  0.0031604 ],\n",
       "       [-0.28041857, -0.38975857, -0.07140496,  0.12957631],\n",
       "       [-0.86870928, -1.2722308 , -0.4030925 , -0.12325551],\n",
       "       [ 1.01382099,  0.05147755,  0.3708451 ,  0.25599222],\n",
       "       [-1.45699999,  0.71333172, -1.28759262, -1.1345828 ],\n",
       "       [ 1.24913728,  0.05147755,  0.75781391,  1.39373542],\n",
       "       [ 0.42553028, -0.61037662,  0.59197013,  0.76165587],\n",
       "       [-0.16276043, -0.61037662,  0.20500133,  0.12957631],\n",
       "       [-0.98636742,  0.71333172, -1.23231137, -1.26099872],\n",
       "       [-0.98636742,  1.15456783, -1.28759262, -1.26099872],\n",
       "       [-1.45699999,  0.2720956 , -1.28759262, -1.26099872],\n",
       "       [-1.80997442, -0.16914051, -1.4534364 , -1.38741463],\n",
       "       [-1.57465814, -1.71346691, -1.34287388, -1.1345828 ],\n",
       "       [ 2.07274427, -0.16914051,  1.58703277,  1.1409036 ],\n",
       "       [-0.16276043, -1.2722308 ,  0.70253265,  1.01448769],\n",
       "       [ 1.36679542,  0.2720956 ,  0.53668888,  0.25599222],\n",
       "       [ 1.01382099, -1.2722308 ,  1.14478271,  0.76165587],\n",
       "       [ 0.66084656, -0.83099468,  0.86837642,  0.88807178],\n",
       "       [-0.86870928,  0.93394977, -1.28759262, -1.26099872],\n",
       "       [-0.51573486,  1.816422  , -1.12174885, -1.00816689],\n",
       "       [ 1.48445356, -0.16914051,  1.20006397,  1.1409036 ],\n",
       "       [-0.16276043,  1.59580395, -1.12174885, -1.1345828 ],\n",
       "       [-0.75105114,  2.25765812, -1.23231137, -1.38741463],\n",
       "       [ 0.190214  ,  0.71333172,  0.42612636,  0.50882404],\n",
       "       [ 0.190214  , -1.93408497,  0.14972007, -0.24967142],\n",
       "       [ 2.19040241, -0.61037662,  1.64231403,  1.01448769],\n",
       "       [ 2.19040241, -1.05161274,  1.75287654,  1.39373542],\n",
       "       [-0.28041857, -0.16914051,  0.42612636,  0.38240813],\n",
       "       [ 0.30787214, -0.61037662,  0.14972007,  0.12957631],\n",
       "       [ 0.66084656, -0.38975857,  0.31556385,  0.12957631],\n",
       "       [-0.51573486,  0.71333172, -1.12174885, -1.26099872],\n",
       "       [ 2.19040241, -0.16914051,  1.31062648,  1.39373542],\n",
       "       [-0.16276043, -0.61037662,  0.42612636,  0.12957631],\n",
       "       [-0.04510229, -0.83099468,  0.20500133, -0.24967142]])"
      ]
     },
     "execution_count": 195,
     "metadata": {},
     "output_type": "execute_result"
    }
   ],
   "source": [
    "x_train"
   ]
  },
  {
   "cell_type": "code",
   "execution_count": 196,
   "metadata": {},
   "outputs": [],
   "source": [
    "X_test_standard = standardScaler.transform(x_test)"
   ]
  },
  {
   "cell_type": "code",
   "execution_count": 197,
   "metadata": {},
   "outputs": [
    {
     "data": {
      "text/plain": [
       "array([[ 0.54318842,  0.49271366,  0.53668888,  0.50882404],\n",
       "       [-0.16276043, -0.16914051,  0.26028259,  0.0031604 ],\n",
       "       [-0.75105114, -0.83099468,  0.09443881,  0.25599222],\n",
       "       [-0.04510229, -0.83099468,  0.75781391,  0.88807178],\n",
       "       [-0.86870928,  0.71333172, -1.23231137, -1.26099872],\n",
       "       [ 0.42553028, -0.38975857,  0.31556385,  0.12957631],\n",
       "       [-0.98636742,  0.93394977, -1.34287388, -1.1345828 ],\n",
       "       [-0.86870928,  0.49271366, -1.12174885, -0.88175098],\n",
       "       [-0.39807671, -1.2722308 ,  0.14972007,  0.12957631],\n",
       "       [-0.75105114,  0.93394977, -1.23231137, -1.26099872],\n",
       "       [ 1.83742799, -0.61037662,  1.31062648,  0.88807178],\n",
       "       [ 0.66084656,  0.2720956 ,  0.42612636,  0.38240813],\n",
       "       [-1.10402557, -0.16914051, -1.28759262, -1.26099872],\n",
       "       [ 0.77850471, -0.16914051,  0.81309516,  1.01448769],\n",
       "       [ 0.54318842, -1.2722308 ,  0.64725139,  0.38240813],\n",
       "       [-0.39807671, -1.49284885, -0.0161237 , -0.24967142],\n",
       "       [ 1.01382099,  0.05147755,  0.53668888,  0.38240813],\n",
       "       [ 0.54318842, -0.61037662,  0.75781391,  0.38240813],\n",
       "       [ 1.13147913, -0.61037662,  0.59197013,  0.25599222],\n",
       "       [-0.28041857, -0.16914051,  0.20500133,  0.12957631],\n",
       "       [ 0.190214  , -1.93408497,  0.70253265,  0.38240813],\n",
       "       [-0.39807671, -1.05161274,  0.3708451 ,  0.0031604 ],\n",
       "       [ 1.01382099, -0.16914051,  0.70253265,  0.63523995],\n",
       "       [-0.51573486, -0.16914051,  0.42612636,  0.38240813],\n",
       "       [ 1.6021117 ,  0.2720956 ,  1.25534522,  0.76165587],\n",
       "       [-0.98636742,  0.49271366, -1.28759262, -1.26099872],\n",
       "       [-0.98636742,  0.93394977, -1.17703011, -0.75533507],\n",
       "       [ 0.54318842,  0.71333172,  1.03422019,  1.52015133],\n",
       "       [-1.22168371, -0.16914051, -1.28759262, -1.38741463],\n",
       "       [ 0.77850471, -0.61037662,  0.48140762,  0.38240813]])"
      ]
     },
     "execution_count": 197,
     "metadata": {},
     "output_type": "execute_result"
    }
   ],
   "source": [
    "X_test_standard "
   ]
  },
  {
   "cell_type": "code",
   "execution_count": 229,
   "metadata": {},
   "outputs": [],
   "source": [
    "from sklearn.neighbors import KNeighborsClassifier"
   ]
  },
  {
   "cell_type": "code",
   "execution_count": 230,
   "metadata": {},
   "outputs": [],
   "source": [
    "param_grid = [\n",
    "    {\n",
    "        'weights' : ['uniform'],\n",
    "        'n_neighbors' : [i for i in range(1,11)]\n",
    "    },\n",
    "    {\n",
    "        'weights' : ['distance'],\n",
    "        'n_neighbors' : [i for i in range(1,11)],\n",
    "        'p' : [i for i in range(1, 6)]\n",
    "    }\n",
    "]"
   ]
  },
  {
   "cell_type": "code",
   "execution_count": 231,
   "metadata": {},
   "outputs": [],
   "source": [
    "knn_clf = KNeighborsClassifier()"
   ]
  },
  {
   "cell_type": "code",
   "execution_count": 232,
   "metadata": {},
   "outputs": [],
   "source": [
    "from sklearn.model_selection import GridSearchCV"
   ]
  },
  {
   "cell_type": "code",
   "execution_count": 233,
   "metadata": {},
   "outputs": [],
   "source": [
    "grid_search = GridSearchCV(knn_clf, param_grid)"
   ]
  },
  {
   "cell_type": "code",
   "execution_count": 234,
   "metadata": {},
   "outputs": [
    {
     "name": "stdout",
     "output_type": "stream",
     "text": [
      "CPU times: user 506 ms, sys: 6.37 ms, total: 512 ms\n",
      "Wall time: 511 ms\n"
     ]
    },
    {
     "data": {
      "text/plain": [
       "GridSearchCV(estimator=KNeighborsClassifier(),\n",
       "             param_grid=[{'n_neighbors': [1, 2, 3, 4, 5, 6, 7, 8, 9, 10],\n",
       "                          'weights': ['uniform']},\n",
       "                         {'n_neighbors': [1, 2, 3, 4, 5, 6, 7, 8, 9, 10],\n",
       "                          'p': [1, 2, 3, 4, 5], 'weights': ['distance']}])"
      ]
     },
     "execution_count": 234,
     "metadata": {},
     "output_type": "execute_result"
    }
   ],
   "source": [
    "%%time\n",
    "grid_search.fit(x_train, y_train)"
   ]
  },
  {
   "cell_type": "code",
   "execution_count": 235,
   "metadata": {},
   "outputs": [
    {
     "data": {
      "text/plain": [
       "KNeighborsClassifier(n_neighbors=6, weights='distance')"
      ]
     },
     "execution_count": 235,
     "metadata": {},
     "output_type": "execute_result"
    }
   ],
   "source": [
    "grid_search.best_estimator_"
   ]
  },
  {
   "cell_type": "code",
   "execution_count": 236,
   "metadata": {},
   "outputs": [
    {
     "data": {
      "text/plain": [
       "KNeighborsClassifier()"
      ]
     },
     "execution_count": 236,
     "metadata": {},
     "output_type": "execute_result"
    }
   ],
   "source": [
    "knn_clf.fit(x_train, y_train)"
   ]
  },
  {
   "cell_type": "code",
   "execution_count": 238,
   "metadata": {},
   "outputs": [
    {
     "data": {
      "text/plain": [
       "0.23333333333333334"
      ]
     },
     "execution_count": 238,
     "metadata": {},
     "output_type": "execute_result"
    }
   ],
   "source": [
    "knn_clf.score(x_test, y_test)"
   ]
  },
  {
   "cell_type": "code",
   "execution_count": null,
   "metadata": {},
   "outputs": [],
   "source": []
  }
 ],
 "metadata": {
  "kernelspec": {
   "display_name": "Python 3",
   "language": "python",
   "name": "python3"
  },
  "language_info": {
   "codemirror_mode": {
    "name": "ipython",
    "version": 3
   },
   "file_extension": ".py",
   "mimetype": "text/x-python",
   "name": "python",
   "nbconvert_exporter": "python",
   "pygments_lexer": "ipython3",
   "version": "3.8.5"
  }
 },
 "nbformat": 4,
 "nbformat_minor": 4
}
